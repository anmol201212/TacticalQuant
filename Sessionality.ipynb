{
 "cells": [
  {
   "cell_type": "code",
   "execution_count": 56,
   "metadata": {},
   "outputs": [],
   "source": [
    "import pandas as pd\n",
    "import numpy as np\n",
    "import matplotlib.pyplot as plt\n",
    "import plotly.graph_objects as go\n",
    "import plotly.io as pio\n",
    "from statsmodels.tsa.seasonal import seasonal_decompose\n"
   ]
  },
  {
   "cell_type": "code",
   "execution_count": 66,
   "metadata": {},
   "outputs": [
    {
     "data": {
      "text/html": [
       "<div>\n",
       "<style scoped>\n",
       "    .dataframe tbody tr th:only-of-type {\n",
       "        vertical-align: middle;\n",
       "    }\n",
       "\n",
       "    .dataframe tbody tr th {\n",
       "        vertical-align: top;\n",
       "    }\n",
       "\n",
       "    .dataframe thead th {\n",
       "        text-align: right;\n",
       "    }\n",
       "</style>\n",
       "<table border=\"1\" class=\"dataframe\">\n",
       "  <thead>\n",
       "    <tr style=\"text-align: right;\">\n",
       "      <th></th>\n",
       "      <th>Timestamp.2024</th>\n",
       "      <th>2024</th>\n",
       "      <th>Timestamp.2023</th>\n",
       "      <th>2023</th>\n",
       "      <th>Timestamp.2022</th>\n",
       "      <th>2022</th>\n",
       "      <th>Timestamp.2021</th>\n",
       "      <th>2021</th>\n",
       "      <th>Timestamp.2020</th>\n",
       "      <th>2020</th>\n",
       "      <th>...</th>\n",
       "      <th>Timestamp.2008</th>\n",
       "      <th>2008</th>\n",
       "      <th>Timestamp.2007</th>\n",
       "      <th>2007</th>\n",
       "      <th>Timestamp.2006</th>\n",
       "      <th>2006</th>\n",
       "      <th>Timestamp.2005</th>\n",
       "      <th>2005</th>\n",
       "      <th>Timestamp.2004</th>\n",
       "      <th>2004</th>\n",
       "    </tr>\n",
       "  </thead>\n",
       "  <tbody>\n",
       "    <tr>\n",
       "      <th>0</th>\n",
       "      <td>2023-02-19</td>\n",
       "      <td>7.25</td>\n",
       "      <td>2022-02-19</td>\n",
       "      <td>NaN</td>\n",
       "      <td>2021-02-19</td>\n",
       "      <td>4.75</td>\n",
       "      <td>2020-02-19</td>\n",
       "      <td>4.25</td>\n",
       "      <td>2019-02-19</td>\n",
       "      <td>4.75</td>\n",
       "      <td>...</td>\n",
       "      <td>2007-02-19</td>\n",
       "      <td>NaN</td>\n",
       "      <td>2006-02-19</td>\n",
       "      <td>NaN</td>\n",
       "      <td>2005-02-19</td>\n",
       "      <td>NaN</td>\n",
       "      <td>2004-02-19</td>\n",
       "      <td>NaN</td>\n",
       "      <td>2003-02-19</td>\n",
       "      <td>NaN</td>\n",
       "    </tr>\n",
       "    <tr>\n",
       "      <th>1</th>\n",
       "      <td>2023-02-20</td>\n",
       "      <td>7.25</td>\n",
       "      <td>2022-02-20</td>\n",
       "      <td>NaN</td>\n",
       "      <td>2021-02-20</td>\n",
       "      <td>NaN</td>\n",
       "      <td>2020-02-20</td>\n",
       "      <td>4.00</td>\n",
       "      <td>2019-02-20</td>\n",
       "      <td>5.00</td>\n",
       "      <td>...</td>\n",
       "      <td>2007-02-20</td>\n",
       "      <td>NaN</td>\n",
       "      <td>2006-02-20</td>\n",
       "      <td>NaN</td>\n",
       "      <td>2005-02-20</td>\n",
       "      <td>NaN</td>\n",
       "      <td>2004-02-20</td>\n",
       "      <td>NaN</td>\n",
       "      <td>2003-02-20</td>\n",
       "      <td>NaN</td>\n",
       "    </tr>\n",
       "    <tr>\n",
       "      <th>2</th>\n",
       "      <td>2023-02-21</td>\n",
       "      <td>7.25</td>\n",
       "      <td>2022-02-21</td>\n",
       "      <td>NaN</td>\n",
       "      <td>2021-02-21</td>\n",
       "      <td>NaN</td>\n",
       "      <td>2020-02-21</td>\n",
       "      <td>4.00</td>\n",
       "      <td>2019-02-21</td>\n",
       "      <td>5.75</td>\n",
       "      <td>...</td>\n",
       "      <td>2007-02-21</td>\n",
       "      <td>NaN</td>\n",
       "      <td>2006-02-21</td>\n",
       "      <td>NaN</td>\n",
       "      <td>2005-02-21</td>\n",
       "      <td>NaN</td>\n",
       "      <td>2004-02-21</td>\n",
       "      <td>NaN</td>\n",
       "      <td>2003-02-21</td>\n",
       "      <td>NaN</td>\n",
       "    </tr>\n",
       "    <tr>\n",
       "      <th>3</th>\n",
       "      <td>2023-02-22</td>\n",
       "      <td>6.75</td>\n",
       "      <td>2022-02-22</td>\n",
       "      <td>7.00</td>\n",
       "      <td>2021-02-22</td>\n",
       "      <td>4.75</td>\n",
       "      <td>2020-02-22</td>\n",
       "      <td>NaN</td>\n",
       "      <td>2019-02-22</td>\n",
       "      <td>6.00</td>\n",
       "      <td>...</td>\n",
       "      <td>2007-02-22</td>\n",
       "      <td>NaN</td>\n",
       "      <td>2006-02-22</td>\n",
       "      <td>NaN</td>\n",
       "      <td>2005-02-22</td>\n",
       "      <td>NaN</td>\n",
       "      <td>2004-02-22</td>\n",
       "      <td>NaN</td>\n",
       "      <td>2003-02-22</td>\n",
       "      <td>NaN</td>\n",
       "    </tr>\n",
       "    <tr>\n",
       "      <th>4</th>\n",
       "      <td>2023-02-23</td>\n",
       "      <td>6.75</td>\n",
       "      <td>2022-02-23</td>\n",
       "      <td>9.25</td>\n",
       "      <td>2021-02-23</td>\n",
       "      <td>8.25</td>\n",
       "      <td>2020-02-23</td>\n",
       "      <td>NaN</td>\n",
       "      <td>2019-02-23</td>\n",
       "      <td>NaN</td>\n",
       "      <td>...</td>\n",
       "      <td>2007-02-23</td>\n",
       "      <td>NaN</td>\n",
       "      <td>2006-02-23</td>\n",
       "      <td>NaN</td>\n",
       "      <td>2005-02-23</td>\n",
       "      <td>NaN</td>\n",
       "      <td>2004-02-23</td>\n",
       "      <td>NaN</td>\n",
       "      <td>2003-02-23</td>\n",
       "      <td>NaN</td>\n",
       "    </tr>\n",
       "    <tr>\n",
       "      <th>5</th>\n",
       "      <td>2023-02-24</td>\n",
       "      <td>5.25</td>\n",
       "      <td>2022-02-24</td>\n",
       "      <td>11.75</td>\n",
       "      <td>2021-02-24</td>\n",
       "      <td>7.75</td>\n",
       "      <td>2020-02-24</td>\n",
       "      <td>3.25</td>\n",
       "      <td>2019-02-24</td>\n",
       "      <td>NaN</td>\n",
       "      <td>...</td>\n",
       "      <td>2007-02-24</td>\n",
       "      <td>NaN</td>\n",
       "      <td>2006-02-24</td>\n",
       "      <td>NaN</td>\n",
       "      <td>2005-02-24</td>\n",
       "      <td>NaN</td>\n",
       "      <td>2004-02-24</td>\n",
       "      <td>NaN</td>\n",
       "      <td>2003-02-24</td>\n",
       "      <td>NaN</td>\n",
       "    </tr>\n",
       "    <tr>\n",
       "      <th>6</th>\n",
       "      <td>2023-02-25</td>\n",
       "      <td>6.75</td>\n",
       "      <td>2022-02-25</td>\n",
       "      <td>8.50</td>\n",
       "      <td>2021-02-25</td>\n",
       "      <td>8.00</td>\n",
       "      <td>2020-02-25</td>\n",
       "      <td>3.50</td>\n",
       "      <td>2019-02-25</td>\n",
       "      <td>5.00</td>\n",
       "      <td>...</td>\n",
       "      <td>2007-02-25</td>\n",
       "      <td>NaN</td>\n",
       "      <td>2006-02-25</td>\n",
       "      <td>NaN</td>\n",
       "      <td>2005-02-25</td>\n",
       "      <td>NaN</td>\n",
       "      <td>2004-02-25</td>\n",
       "      <td>NaN</td>\n",
       "      <td>2003-02-25</td>\n",
       "      <td>NaN</td>\n",
       "    </tr>\n",
       "    <tr>\n",
       "      <th>7</th>\n",
       "      <td>2023-02-26</td>\n",
       "      <td>6.75</td>\n",
       "      <td>2022-02-26</td>\n",
       "      <td>NaN</td>\n",
       "      <td>2021-02-26</td>\n",
       "      <td>7.25</td>\n",
       "      <td>2020-02-26</td>\n",
       "      <td>3.00</td>\n",
       "      <td>2019-02-26</td>\n",
       "      <td>4.25</td>\n",
       "      <td>...</td>\n",
       "      <td>2007-02-26</td>\n",
       "      <td>NaN</td>\n",
       "      <td>2006-02-26</td>\n",
       "      <td>NaN</td>\n",
       "      <td>2005-02-26</td>\n",
       "      <td>NaN</td>\n",
       "      <td>2004-02-26</td>\n",
       "      <td>NaN</td>\n",
       "      <td>2003-02-26</td>\n",
       "      <td>NaN</td>\n",
       "    </tr>\n",
       "    <tr>\n",
       "      <th>8</th>\n",
       "      <td>2023-02-27</td>\n",
       "      <td>6.75</td>\n",
       "      <td>2022-02-27</td>\n",
       "      <td>NaN</td>\n",
       "      <td>2021-02-27</td>\n",
       "      <td>NaN</td>\n",
       "      <td>2020-02-27</td>\n",
       "      <td>3.00</td>\n",
       "      <td>2019-02-27</td>\n",
       "      <td>5.00</td>\n",
       "      <td>...</td>\n",
       "      <td>2007-02-27</td>\n",
       "      <td>NaN</td>\n",
       "      <td>2006-02-27</td>\n",
       "      <td>NaN</td>\n",
       "      <td>2005-02-27</td>\n",
       "      <td>NaN</td>\n",
       "      <td>2004-02-27</td>\n",
       "      <td>NaN</td>\n",
       "      <td>2003-02-27</td>\n",
       "      <td>NaN</td>\n",
       "    </tr>\n",
       "    <tr>\n",
       "      <th>9</th>\n",
       "      <td>2023-02-28</td>\n",
       "      <td>6.50</td>\n",
       "      <td>2022-02-28</td>\n",
       "      <td>10.00</td>\n",
       "      <td>2021-02-28</td>\n",
       "      <td>NaN</td>\n",
       "      <td>2020-02-28</td>\n",
       "      <td>3.50</td>\n",
       "      <td>2019-02-28</td>\n",
       "      <td>5.00</td>\n",
       "      <td>...</td>\n",
       "      <td>2007-02-28</td>\n",
       "      <td>NaN</td>\n",
       "      <td>2006-02-28</td>\n",
       "      <td>NaN</td>\n",
       "      <td>2005-02-28</td>\n",
       "      <td>NaN</td>\n",
       "      <td>2004-02-28</td>\n",
       "      <td>NaN</td>\n",
       "      <td>2003-02-28</td>\n",
       "      <td>NaN</td>\n",
       "    </tr>\n",
       "  </tbody>\n",
       "</table>\n",
       "<p>10 rows × 42 columns</p>\n",
       "</div>"
      ],
      "text/plain": [
       "  Timestamp.2024  2024 Timestamp.2023   2023 Timestamp.2022  2022  \\\n",
       "0     2023-02-19  7.25     2022-02-19    NaN     2021-02-19  4.75   \n",
       "1     2023-02-20  7.25     2022-02-20    NaN     2021-02-20   NaN   \n",
       "2     2023-02-21  7.25     2022-02-21    NaN     2021-02-21   NaN   \n",
       "3     2023-02-22  6.75     2022-02-22   7.00     2021-02-22  4.75   \n",
       "4     2023-02-23  6.75     2022-02-23   9.25     2021-02-23  8.25   \n",
       "5     2023-02-24  5.25     2022-02-24  11.75     2021-02-24  7.75   \n",
       "6     2023-02-25  6.75     2022-02-25   8.50     2021-02-25  8.00   \n",
       "7     2023-02-26  6.75     2022-02-26    NaN     2021-02-26  7.25   \n",
       "8     2023-02-27  6.75     2022-02-27    NaN     2021-02-27   NaN   \n",
       "9     2023-02-28  6.50     2022-02-28  10.00     2021-02-28   NaN   \n",
       "\n",
       "  Timestamp.2021  2021 Timestamp.2020  2020  ... Timestamp.2008  2008  \\\n",
       "0     2020-02-19  4.25     2019-02-19  4.75  ...     2007-02-19   NaN   \n",
       "1     2020-02-20  4.00     2019-02-20  5.00  ...     2007-02-20   NaN   \n",
       "2     2020-02-21  4.00     2019-02-21  5.75  ...     2007-02-21   NaN   \n",
       "3     2020-02-22   NaN     2019-02-22  6.00  ...     2007-02-22   NaN   \n",
       "4     2020-02-23   NaN     2019-02-23   NaN  ...     2007-02-23   NaN   \n",
       "5     2020-02-24  3.25     2019-02-24   NaN  ...     2007-02-24   NaN   \n",
       "6     2020-02-25  3.50     2019-02-25  5.00  ...     2007-02-25   NaN   \n",
       "7     2020-02-26  3.00     2019-02-26  4.25  ...     2007-02-26   NaN   \n",
       "8     2020-02-27  3.00     2019-02-27  5.00  ...     2007-02-27   NaN   \n",
       "9     2020-02-28  3.50     2019-02-28  5.00  ...     2007-02-28   NaN   \n",
       "\n",
       "  Timestamp.2007  2007 Timestamp.2006  2006 Timestamp.2005  2005  \\\n",
       "0     2006-02-19   NaN     2005-02-19   NaN     2004-02-19   NaN   \n",
       "1     2006-02-20   NaN     2005-02-20   NaN     2004-02-20   NaN   \n",
       "2     2006-02-21   NaN     2005-02-21   NaN     2004-02-21   NaN   \n",
       "3     2006-02-22   NaN     2005-02-22   NaN     2004-02-22   NaN   \n",
       "4     2006-02-23   NaN     2005-02-23   NaN     2004-02-23   NaN   \n",
       "5     2006-02-24   NaN     2005-02-24   NaN     2004-02-24   NaN   \n",
       "6     2006-02-25   NaN     2005-02-25   NaN     2004-02-25   NaN   \n",
       "7     2006-02-26   NaN     2005-02-26   NaN     2004-02-26   NaN   \n",
       "8     2006-02-27   NaN     2005-02-27   NaN     2004-02-27   NaN   \n",
       "9     2006-02-28   NaN     2005-02-28   NaN     2004-02-28   NaN   \n",
       "\n",
       "  Timestamp.2004  2004  \n",
       "0     2003-02-19   NaN  \n",
       "1     2003-02-20   NaN  \n",
       "2     2003-02-21   NaN  \n",
       "3     2003-02-22   NaN  \n",
       "4     2003-02-23   NaN  \n",
       "5     2003-02-24   NaN  \n",
       "6     2003-02-25   NaN  \n",
       "7     2003-02-26   NaN  \n",
       "8     2003-02-27   NaN  \n",
       "9     2003-02-28   NaN  \n",
       "\n",
       "[10 rows x 42 columns]"
      ]
     },
     "execution_count": 66,
     "metadata": {},
     "output_type": "execute_result"
    }
   ],
   "source": [
    "df = pd.read_csv('./data/W_N-U-Z24.csv')\n",
    "str_detail = \"W_N-U-Z24\"\n",
    "# df.info\n",
    "df.head(10)"
   ]
  },
  {
   "cell_type": "code",
   "execution_count": 58,
   "metadata": {},
   "outputs": [],
   "source": [
    "def trend_finder(year):\n",
    "    temp1 = df[f'Timestamp.{year}']\n",
    "    temp2 = df[year]\n",
    "    temp_df = pd.DataFrame({'Timestamp': temp1, 'Value': temp2})\n",
    "    # temp_df = temp_df.dropna()\n",
    "    # temp_df['Timestamp'] = pd.to_datetime(temp_df['Timestamp'])\n",
    "    \n",
    "    temp_df['Timestamp'] = pd.to_datetime(temp_df['Timestamp'], errors='coerce')\n",
    "    temp_df = temp_df.dropna(subset=['Timestamp'])\n",
    "\n",
    "    # Group by year and month\n",
    "    grouped = temp_df.groupby(temp_df['Timestamp'].dt.to_period('M'))\n",
    "\n",
    "    # Get first and last rows for each group\n",
    "    first_last = grouped.agg({'Timestamp': ['first', 'last'], 'Value': ['first', 'last']})\n",
    "\n",
    "    # Flatten the MultiIndex columns\n",
    "    first_last.columns = ['First_Date', 'Last_Date', 'Start_Value', 'End_Value']\n",
    "\n",
    "    # Calculate the difference\n",
    "    first_last['Value_Difference'] = first_last['Start_Value'] - first_last['End_Value']\n",
    "\n",
    "    # Reset the index to get a flat DataFrame\n",
    "    result = first_last.reset_index(drop=True)\n",
    "\n",
    "    return result\n",
    "\n",
    "    # return temp_df"
   ]
  },
  {
   "cell_type": "code",
   "execution_count": 59,
   "metadata": {},
   "outputs": [],
   "source": [
    "\n",
    "# main_df = trend_finder('2010')\n",
    "# main_df = main_df[['First_Date']]\n",
    "# main_df = main_df.rename(columns={'First_Date': 'Month'})\n",
    "# main_df['Month'] = main_df['Month'].dt.month\n",
    "\n",
    "# for i in range(2010, 2025):\n",
    "#     result = trend_finder(str(i))  \n",
    "#     result = result.rename(columns={'Value_Difference': i, 'First_Date': 'Month'})\n",
    "#     result['Month'] = result['Month'].dt.month\n",
    "#     result = result.drop(['Last_Date', 'Start_Value', 'End_Value'], axis=1)\n",
    "#     # main_df = pd.merge(main_df, result, on='Month')\n",
    "#     # main_df = pd.concat([main_df, result], ignore_index=True)\n",
    "#     ls = result[i]\n",
    "#     main_df[i] = ls\n",
    "\n",
    "\n",
    "\n",
    "\n",
    "# main_df.to_csv('./data/result_'+str_detail+'.csv')\n",
    "# main_df\n"
   ]
  },
  {
   "cell_type": "code",
   "execution_count": 60,
   "metadata": {},
   "outputs": [],
   "source": [
    "def normalize_list(data):\n",
    "    # Convert data to numpy array to handle NaN values\n",
    "    data_array = np.array(data, dtype=np.float64)\n",
    "    \n",
    "    # Replace NaN values with the median of non-NaN values\n",
    "    median_value = np.nanmedian(data_array)\n",
    "    data_array[np.isnan(data_array)] = median_value\n",
    "    \n",
    "    # Normalize the data\n",
    "    min_val = np.min(data_array)\n",
    "    max_val = np.max(data_array)\n",
    "    normalized_data = (data_array - min_val) / (max_val - min_val)\n",
    "    \n",
    "    return normalized_data.tolist()"
   ]
  },
  {
   "cell_type": "code",
   "execution_count": 61,
   "metadata": {},
   "outputs": [
    {
     "data": {
      "text/html": [
       "<div>\n",
       "<style scoped>\n",
       "    .dataframe tbody tr th:only-of-type {\n",
       "        vertical-align: middle;\n",
       "    }\n",
       "\n",
       "    .dataframe tbody tr th {\n",
       "        vertical-align: top;\n",
       "    }\n",
       "\n",
       "    .dataframe thead th {\n",
       "        text-align: right;\n",
       "    }\n",
       "</style>\n",
       "<table border=\"1\" class=\"dataframe\">\n",
       "  <thead>\n",
       "    <tr style=\"text-align: right;\">\n",
       "      <th></th>\n",
       "      <th>Month</th>\n",
       "      <th>2010</th>\n",
       "      <th>2011</th>\n",
       "      <th>2012</th>\n",
       "      <th>2013</th>\n",
       "      <th>2014</th>\n",
       "      <th>2015</th>\n",
       "      <th>2016</th>\n",
       "      <th>2017</th>\n",
       "      <th>2018</th>\n",
       "      <th>2019</th>\n",
       "      <th>2020</th>\n",
       "      <th>2021</th>\n",
       "      <th>2022</th>\n",
       "      <th>2023</th>\n",
       "      <th>2024</th>\n",
       "      <th>Mean</th>\n",
       "    </tr>\n",
       "  </thead>\n",
       "  <tbody>\n",
       "    <tr>\n",
       "      <th>0</th>\n",
       "      <td>02- (1st)</td>\n",
       "      <td>0.126354</td>\n",
       "      <td>0.000000</td>\n",
       "      <td>0.676923</td>\n",
       "      <td>0.000000</td>\n",
       "      <td>0.551601</td>\n",
       "      <td>1.000000</td>\n",
       "      <td>0.450</td>\n",
       "      <td>1.000000</td>\n",
       "      <td>0.4625</td>\n",
       "      <td>0.907407</td>\n",
       "      <td>0.263158</td>\n",
       "      <td>0.555556</td>\n",
       "      <td>0.635294</td>\n",
       "      <td>0.170213</td>\n",
       "      <td>0.551724</td>\n",
       "      <td>0.490049</td>\n",
       "    </tr>\n",
       "    <tr>\n",
       "      <th>1</th>\n",
       "      <td>03- (1st)</td>\n",
       "      <td>0.126354</td>\n",
       "      <td>0.844749</td>\n",
       "      <td>0.584615</td>\n",
       "      <td>0.175610</td>\n",
       "      <td>1.000000</td>\n",
       "      <td>0.000000</td>\n",
       "      <td>0.750</td>\n",
       "      <td>0.000000</td>\n",
       "      <td>0.4125</td>\n",
       "      <td>0.925926</td>\n",
       "      <td>0.421053</td>\n",
       "      <td>0.000000</td>\n",
       "      <td>0.811765</td>\n",
       "      <td>0.127660</td>\n",
       "      <td>0.724138</td>\n",
       "      <td>0.460291</td>\n",
       "    </tr>\n",
       "    <tr>\n",
       "      <th>2</th>\n",
       "      <td>04- (1st)</td>\n",
       "      <td>1.000000</td>\n",
       "      <td>0.945205</td>\n",
       "      <td>0.230769</td>\n",
       "      <td>0.370732</td>\n",
       "      <td>0.000000</td>\n",
       "      <td>0.644788</td>\n",
       "      <td>0.250</td>\n",
       "      <td>0.428571</td>\n",
       "      <td>0.4750</td>\n",
       "      <td>0.648148</td>\n",
       "      <td>0.000000</td>\n",
       "      <td>0.444444</td>\n",
       "      <td>0.694118</td>\n",
       "      <td>0.595745</td>\n",
       "      <td>0.448276</td>\n",
       "      <td>0.478386</td>\n",
       "    </tr>\n",
       "    <tr>\n",
       "      <th>3</th>\n",
       "      <td>05- (1st)</td>\n",
       "      <td>0.061372</td>\n",
       "      <td>0.835616</td>\n",
       "      <td>0.553846</td>\n",
       "      <td>1.000000</td>\n",
       "      <td>0.633452</td>\n",
       "      <td>0.652510</td>\n",
       "      <td>0.400</td>\n",
       "      <td>0.457143</td>\n",
       "      <td>0.5625</td>\n",
       "      <td>1.000000</td>\n",
       "      <td>0.473684</td>\n",
       "      <td>0.527778</td>\n",
       "      <td>0.835294</td>\n",
       "      <td>0.000000</td>\n",
       "      <td>0.655172</td>\n",
       "      <td>0.576558</td>\n",
       "    </tr>\n",
       "    <tr>\n",
       "      <th>4</th>\n",
       "      <td>06- (1st)</td>\n",
       "      <td>0.111913</td>\n",
       "      <td>0.835616</td>\n",
       "      <td>0.276923</td>\n",
       "      <td>0.180488</td>\n",
       "      <td>0.558719</td>\n",
       "      <td>0.648649</td>\n",
       "      <td>1.000</td>\n",
       "      <td>0.314286</td>\n",
       "      <td>0.3125</td>\n",
       "      <td>0.759259</td>\n",
       "      <td>0.105263</td>\n",
       "      <td>0.694444</td>\n",
       "      <td>0.811765</td>\n",
       "      <td>1.000000</td>\n",
       "      <td>0.655172</td>\n",
       "      <td>0.551000</td>\n",
       "    </tr>\n",
       "    <tr>\n",
       "      <th>5</th>\n",
       "      <td>07- (1st)</td>\n",
       "      <td>0.144404</td>\n",
       "      <td>0.794521</td>\n",
       "      <td>0.615385</td>\n",
       "      <td>0.131707</td>\n",
       "      <td>0.540925</td>\n",
       "      <td>0.567568</td>\n",
       "      <td>0.775</td>\n",
       "      <td>0.457143</td>\n",
       "      <td>0.5000</td>\n",
       "      <td>0.833333</td>\n",
       "      <td>0.315789</td>\n",
       "      <td>0.500000</td>\n",
       "      <td>0.752941</td>\n",
       "      <td>0.553191</td>\n",
       "      <td>0.379310</td>\n",
       "      <td>0.524081</td>\n",
       "    </tr>\n",
       "    <tr>\n",
       "      <th>6</th>\n",
       "      <td>08- (1st)</td>\n",
       "      <td>0.108303</td>\n",
       "      <td>0.949772</td>\n",
       "      <td>0.384615</td>\n",
       "      <td>0.204878</td>\n",
       "      <td>0.537367</td>\n",
       "      <td>0.559846</td>\n",
       "      <td>0.450</td>\n",
       "      <td>0.514286</td>\n",
       "      <td>0.3625</td>\n",
       "      <td>0.722222</td>\n",
       "      <td>0.631579</td>\n",
       "      <td>0.500000</td>\n",
       "      <td>0.705882</td>\n",
       "      <td>0.255319</td>\n",
       "      <td>0.310345</td>\n",
       "      <td>0.479794</td>\n",
       "    </tr>\n",
       "    <tr>\n",
       "      <th>7</th>\n",
       "      <td>09- (1st)</td>\n",
       "      <td>0.155235</td>\n",
       "      <td>0.776256</td>\n",
       "      <td>1.000000</td>\n",
       "      <td>0.253659</td>\n",
       "      <td>0.540925</td>\n",
       "      <td>0.621622</td>\n",
       "      <td>0.450</td>\n",
       "      <td>0.714286</td>\n",
       "      <td>0.3625</td>\n",
       "      <td>0.759259</td>\n",
       "      <td>0.368421</td>\n",
       "      <td>0.444444</td>\n",
       "      <td>0.729412</td>\n",
       "      <td>0.148936</td>\n",
       "      <td>0.655172</td>\n",
       "      <td>0.532008</td>\n",
       "    </tr>\n",
       "    <tr>\n",
       "      <th>8</th>\n",
       "      <td>10- (1st)</td>\n",
       "      <td>0.270758</td>\n",
       "      <td>1.000000</td>\n",
       "      <td>0.646154</td>\n",
       "      <td>0.365854</td>\n",
       "      <td>0.604982</td>\n",
       "      <td>0.660232</td>\n",
       "      <td>0.750</td>\n",
       "      <td>0.714286</td>\n",
       "      <td>0.3500</td>\n",
       "      <td>0.796296</td>\n",
       "      <td>0.526316</td>\n",
       "      <td>0.472222</td>\n",
       "      <td>0.776471</td>\n",
       "      <td>0.638298</td>\n",
       "      <td>0.448276</td>\n",
       "      <td>0.601343</td>\n",
       "    </tr>\n",
       "    <tr>\n",
       "      <th>9</th>\n",
       "      <td>11- (1st)</td>\n",
       "      <td>0.064982</td>\n",
       "      <td>0.716895</td>\n",
       "      <td>0.246154</td>\n",
       "      <td>0.160976</td>\n",
       "      <td>0.551601</td>\n",
       "      <td>0.617761</td>\n",
       "      <td>0.400</td>\n",
       "      <td>0.514286</td>\n",
       "      <td>0.4750</td>\n",
       "      <td>0.777778</td>\n",
       "      <td>0.368421</td>\n",
       "      <td>0.472222</td>\n",
       "      <td>0.811765</td>\n",
       "      <td>0.446809</td>\n",
       "      <td>0.413793</td>\n",
       "      <td>0.469229</td>\n",
       "    </tr>\n",
       "    <tr>\n",
       "      <th>10</th>\n",
       "      <td>12- (1st)</td>\n",
       "      <td>0.129964</td>\n",
       "      <td>0.890411</td>\n",
       "      <td>0.384615</td>\n",
       "      <td>0.170732</td>\n",
       "      <td>0.530249</td>\n",
       "      <td>0.610039</td>\n",
       "      <td>0.300</td>\n",
       "      <td>0.457143</td>\n",
       "      <td>0.4500</td>\n",
       "      <td>0.740741</td>\n",
       "      <td>0.368421</td>\n",
       "      <td>0.444444</td>\n",
       "      <td>0.823529</td>\n",
       "      <td>0.297872</td>\n",
       "      <td>0.413793</td>\n",
       "      <td>0.467464</td>\n",
       "    </tr>\n",
       "    <tr>\n",
       "      <th>11</th>\n",
       "      <td>01- (2nd)</td>\n",
       "      <td>0.122744</td>\n",
       "      <td>0.931507</td>\n",
       "      <td>0.430769</td>\n",
       "      <td>0.082927</td>\n",
       "      <td>0.555160</td>\n",
       "      <td>0.602317</td>\n",
       "      <td>0.625</td>\n",
       "      <td>0.628571</td>\n",
       "      <td>0.3500</td>\n",
       "      <td>0.759259</td>\n",
       "      <td>0.473684</td>\n",
       "      <td>0.555556</td>\n",
       "      <td>0.729412</td>\n",
       "      <td>0.276596</td>\n",
       "      <td>0.172414</td>\n",
       "      <td>0.486394</td>\n",
       "    </tr>\n",
       "    <tr>\n",
       "      <th>12</th>\n",
       "      <td>02- (2nd)</td>\n",
       "      <td>0.155235</td>\n",
       "      <td>0.913242</td>\n",
       "      <td>0.523077</td>\n",
       "      <td>0.156098</td>\n",
       "      <td>0.558719</td>\n",
       "      <td>0.602317</td>\n",
       "      <td>0.475</td>\n",
       "      <td>0.314286</td>\n",
       "      <td>0.3875</td>\n",
       "      <td>0.722222</td>\n",
       "      <td>0.052632</td>\n",
       "      <td>0.166667</td>\n",
       "      <td>0.623529</td>\n",
       "      <td>0.468085</td>\n",
       "      <td>0.103448</td>\n",
       "      <td>0.414804</td>\n",
       "    </tr>\n",
       "    <tr>\n",
       "      <th>13</th>\n",
       "      <td>03- (2nd)</td>\n",
       "      <td>0.108303</td>\n",
       "      <td>0.863014</td>\n",
       "      <td>0.138462</td>\n",
       "      <td>0.190244</td>\n",
       "      <td>0.590747</td>\n",
       "      <td>0.602317</td>\n",
       "      <td>0.650</td>\n",
       "      <td>0.314286</td>\n",
       "      <td>0.4500</td>\n",
       "      <td>0.722222</td>\n",
       "      <td>0.263158</td>\n",
       "      <td>0.666667</td>\n",
       "      <td>1.000000</td>\n",
       "      <td>0.446809</td>\n",
       "      <td>0.551724</td>\n",
       "      <td>0.503863</td>\n",
       "    </tr>\n",
       "    <tr>\n",
       "      <th>14</th>\n",
       "      <td>04- (2nd)</td>\n",
       "      <td>0.166065</td>\n",
       "      <td>0.767123</td>\n",
       "      <td>0.261538</td>\n",
       "      <td>0.209756</td>\n",
       "      <td>0.544484</td>\n",
       "      <td>0.567568</td>\n",
       "      <td>0.250</td>\n",
       "      <td>0.114286</td>\n",
       "      <td>0.3500</td>\n",
       "      <td>0.648148</td>\n",
       "      <td>0.421053</td>\n",
       "      <td>0.611111</td>\n",
       "      <td>0.858824</td>\n",
       "      <td>0.361702</td>\n",
       "      <td>0.206897</td>\n",
       "      <td>0.422570</td>\n",
       "    </tr>\n",
       "    <tr>\n",
       "      <th>15</th>\n",
       "      <td>05- (2nd)</td>\n",
       "      <td>0.115523</td>\n",
       "      <td>0.789954</td>\n",
       "      <td>0.523077</td>\n",
       "      <td>0.200000</td>\n",
       "      <td>0.512456</td>\n",
       "      <td>0.613900</td>\n",
       "      <td>0.675</td>\n",
       "      <td>0.514286</td>\n",
       "      <td>0.5250</td>\n",
       "      <td>0.944444</td>\n",
       "      <td>0.105263</td>\n",
       "      <td>0.277778</td>\n",
       "      <td>0.729412</td>\n",
       "      <td>0.510638</td>\n",
       "      <td>1.000000</td>\n",
       "      <td>0.535782</td>\n",
       "    </tr>\n",
       "    <tr>\n",
       "      <th>16</th>\n",
       "      <td>06- (2nd)</td>\n",
       "      <td>0.173285</td>\n",
       "      <td>0.625571</td>\n",
       "      <td>0.861538</td>\n",
       "      <td>0.190244</td>\n",
       "      <td>0.562278</td>\n",
       "      <td>0.675676</td>\n",
       "      <td>0.675</td>\n",
       "      <td>0.942857</td>\n",
       "      <td>0.0000</td>\n",
       "      <td>0.388889</td>\n",
       "      <td>0.631579</td>\n",
       "      <td>1.000000</td>\n",
       "      <td>0.717647</td>\n",
       "      <td>0.638298</td>\n",
       "      <td>0.413793</td>\n",
       "      <td>0.566444</td>\n",
       "    </tr>\n",
       "    <tr>\n",
       "      <th>17</th>\n",
       "      <td>07- (2nd)</td>\n",
       "      <td>0.000000</td>\n",
       "      <td>0.949772</td>\n",
       "      <td>0.000000</td>\n",
       "      <td>0.146341</td>\n",
       "      <td>0.202847</td>\n",
       "      <td>0.451737</td>\n",
       "      <td>0.000</td>\n",
       "      <td>0.028571</td>\n",
       "      <td>1.0000</td>\n",
       "      <td>0.000000</td>\n",
       "      <td>1.000000</td>\n",
       "      <td>0.750000</td>\n",
       "      <td>0.000000</td>\n",
       "      <td>0.978723</td>\n",
       "      <td>0.000000</td>\n",
       "      <td>0.367199</td>\n",
       "    </tr>\n",
       "  </tbody>\n",
       "</table>\n",
       "</div>"
      ],
      "text/plain": [
       "        Month      2010      2011      2012      2013      2014      2015  \\\n",
       "0   02- (1st)  0.126354  0.000000  0.676923  0.000000  0.551601  1.000000   \n",
       "1   03- (1st)  0.126354  0.844749  0.584615  0.175610  1.000000  0.000000   \n",
       "2   04- (1st)  1.000000  0.945205  0.230769  0.370732  0.000000  0.644788   \n",
       "3   05- (1st)  0.061372  0.835616  0.553846  1.000000  0.633452  0.652510   \n",
       "4   06- (1st)  0.111913  0.835616  0.276923  0.180488  0.558719  0.648649   \n",
       "5   07- (1st)  0.144404  0.794521  0.615385  0.131707  0.540925  0.567568   \n",
       "6   08- (1st)  0.108303  0.949772  0.384615  0.204878  0.537367  0.559846   \n",
       "7   09- (1st)  0.155235  0.776256  1.000000  0.253659  0.540925  0.621622   \n",
       "8   10- (1st)  0.270758  1.000000  0.646154  0.365854  0.604982  0.660232   \n",
       "9   11- (1st)  0.064982  0.716895  0.246154  0.160976  0.551601  0.617761   \n",
       "10  12- (1st)  0.129964  0.890411  0.384615  0.170732  0.530249  0.610039   \n",
       "11  01- (2nd)  0.122744  0.931507  0.430769  0.082927  0.555160  0.602317   \n",
       "12  02- (2nd)  0.155235  0.913242  0.523077  0.156098  0.558719  0.602317   \n",
       "13  03- (2nd)  0.108303  0.863014  0.138462  0.190244  0.590747  0.602317   \n",
       "14  04- (2nd)  0.166065  0.767123  0.261538  0.209756  0.544484  0.567568   \n",
       "15  05- (2nd)  0.115523  0.789954  0.523077  0.200000  0.512456  0.613900   \n",
       "16  06- (2nd)  0.173285  0.625571  0.861538  0.190244  0.562278  0.675676   \n",
       "17  07- (2nd)  0.000000  0.949772  0.000000  0.146341  0.202847  0.451737   \n",
       "\n",
       "     2016      2017    2018      2019      2020      2021      2022      2023  \\\n",
       "0   0.450  1.000000  0.4625  0.907407  0.263158  0.555556  0.635294  0.170213   \n",
       "1   0.750  0.000000  0.4125  0.925926  0.421053  0.000000  0.811765  0.127660   \n",
       "2   0.250  0.428571  0.4750  0.648148  0.000000  0.444444  0.694118  0.595745   \n",
       "3   0.400  0.457143  0.5625  1.000000  0.473684  0.527778  0.835294  0.000000   \n",
       "4   1.000  0.314286  0.3125  0.759259  0.105263  0.694444  0.811765  1.000000   \n",
       "5   0.775  0.457143  0.5000  0.833333  0.315789  0.500000  0.752941  0.553191   \n",
       "6   0.450  0.514286  0.3625  0.722222  0.631579  0.500000  0.705882  0.255319   \n",
       "7   0.450  0.714286  0.3625  0.759259  0.368421  0.444444  0.729412  0.148936   \n",
       "8   0.750  0.714286  0.3500  0.796296  0.526316  0.472222  0.776471  0.638298   \n",
       "9   0.400  0.514286  0.4750  0.777778  0.368421  0.472222  0.811765  0.446809   \n",
       "10  0.300  0.457143  0.4500  0.740741  0.368421  0.444444  0.823529  0.297872   \n",
       "11  0.625  0.628571  0.3500  0.759259  0.473684  0.555556  0.729412  0.276596   \n",
       "12  0.475  0.314286  0.3875  0.722222  0.052632  0.166667  0.623529  0.468085   \n",
       "13  0.650  0.314286  0.4500  0.722222  0.263158  0.666667  1.000000  0.446809   \n",
       "14  0.250  0.114286  0.3500  0.648148  0.421053  0.611111  0.858824  0.361702   \n",
       "15  0.675  0.514286  0.5250  0.944444  0.105263  0.277778  0.729412  0.510638   \n",
       "16  0.675  0.942857  0.0000  0.388889  0.631579  1.000000  0.717647  0.638298   \n",
       "17  0.000  0.028571  1.0000  0.000000  1.000000  0.750000  0.000000  0.978723   \n",
       "\n",
       "        2024      Mean  \n",
       "0   0.551724  0.490049  \n",
       "1   0.724138  0.460291  \n",
       "2   0.448276  0.478386  \n",
       "3   0.655172  0.576558  \n",
       "4   0.655172  0.551000  \n",
       "5   0.379310  0.524081  \n",
       "6   0.310345  0.479794  \n",
       "7   0.655172  0.532008  \n",
       "8   0.448276  0.601343  \n",
       "9   0.413793  0.469229  \n",
       "10  0.413793  0.467464  \n",
       "11  0.172414  0.486394  \n",
       "12  0.103448  0.414804  \n",
       "13  0.551724  0.503863  \n",
       "14  0.206897  0.422570  \n",
       "15  1.000000  0.535782  \n",
       "16  0.413793  0.566444  \n",
       "17  0.000000  0.367199  "
      ]
     },
     "execution_count": 61,
     "metadata": {},
     "output_type": "execute_result"
    }
   ],
   "source": [
    "main_df = trend_finder('2010')\n",
    "main_df = main_df[['First_Date']]\n",
    "main_df = main_df.rename(columns={'First_Date': 'Month'})\n",
    "\n",
    "# main_df['Month'] = main_df['Month'].dt.month\n",
    "main_df['Month'] = main_df['Month'].dt.strftime('%m-%Y')\n",
    "\n",
    "for i in range(2010, 2025):\n",
    "    result = trend_finder(str(i))  \n",
    "    result = result.rename(columns={'Value_Difference': i, 'First_Date': 'Month'})\n",
    "    result['Month'] = result['Month'].dt.month\n",
    "    result = result.drop(['Last_Date', 'Start_Value', 'End_Value'], axis=1)\n",
    "    # main_df = pd.merge(main_df, result, on='Month')\n",
    "    # main_df = pd.concat([main_df, result], ignore_index=True)\n",
    "    ls = result[i]\n",
    "    ls = normalize_list(ls)\n",
    "    main_df[i] = ls\n",
    "    \n",
    "\n",
    "mean_row = main_df.iloc[:, 1:].mean(axis=1)\n",
    "main_df['Mean'] = mean_row\n",
    "# for i in range(len(main_df)):\n",
    "#     if main_df.loc[i, 'Month'].year == 2009:\n",
    "#         main_df.loc[i, 'Month'] = main_df.loc[i, 'Month'].strftime('%m-%Y')[:3] + \" (1st)\"\n",
    "#     else:\n",
    "#         break\n",
    "# Convert 'Month' column to datetime if it isn't already\n",
    "# Ensure 'Month' column is in datetime format\n",
    "main_df['Month'] = pd.to_datetime(main_df['Month'])\n",
    "\n",
    "# Create a temporary column for string updates\n",
    "main_df['Month_str'] = main_df['Month'].dt.strftime('%m-%Y')\n",
    "\n",
    "# Apply the condition and update the temporary column\n",
    "main_df.loc[main_df['Month'].dt.year == 2009, 'Month_str'] = main_df.loc[main_df['Month'].dt.year == 2009, 'Month_str'].str[:3] + \" (1st)\"\n",
    "main_df.loc[main_df['Month'].dt.year == 2010, 'Month_str'] = main_df.loc[main_df['Month'].dt.year == 2010, 'Month_str'].str[:3] + \" (2nd)\"\n",
    "\n",
    "# Drop the original 'Month' column if you no longer need it\n",
    "main_df.drop(columns=['Month'], inplace=True)\n",
    "\n",
    "# Rename the temporary column back to 'Month'\n",
    "main_df.rename(columns={'Month_str': 'Month'}, inplace=True)\n",
    "column_to_move = 'Month'\n",
    "col = main_df.pop(column_to_move)\n",
    "main_df.insert(0, column_to_move, col)\n",
    "\n",
    "\n",
    "\n",
    "main_df.to_csv('./data/result_'+str_detail+'.csv')\n",
    "main_df\n"
   ]
  },
  {
   "cell_type": "code",
   "execution_count": 62,
   "metadata": {},
   "outputs": [
    {
     "data": {
      "application/vnd.plotly.v1+json": {
       "config": {
        "plotlyServerURL": "https://plot.ly"
       },
       "data": [
        {
         "mode": "lines+markers",
         "name": "Mean",
         "type": "scatter",
         "x": [
          "02- (1st)",
          "03- (1st)",
          "04- (1st)",
          "05- (1st)",
          "06- (1st)",
          "07- (1st)",
          "08- (1st)",
          "09- (1st)",
          "10- (1st)",
          "11- (1st)",
          "12- (1st)",
          "01- (2nd)",
          "02- (2nd)",
          "03- (2nd)",
          "04- (2nd)",
          "05- (2nd)",
          "06- (2nd)",
          "07- (2nd)"
         ],
         "y": [
          0.4900486780173124,
          0.46029123724426313,
          0.47838641823125844,
          0.5765578280033129,
          0.5509998588650825,
          0.524081221454981,
          0.4797942462146159,
          0.5320084406163945,
          0.6013429225996048,
          0.4692294340447839,
          0.46746357471403766,
          0.48639433951541056,
          0.4148037059921972,
          0.5038634312257605,
          0.4225702797314812,
          0.5357820675716789,
          0.5664436405508456,
          0.36719949417103454
         ]
        },
        {
         "mode": "lines+markers",
         "name": "2024",
         "type": "scatter",
         "x": [
          "02- (1st)",
          "03- (1st)",
          "04- (1st)",
          "05- (1st)",
          "06- (1st)",
          "07- (1st)",
          "08- (1st)",
          "09- (1st)",
          "10- (1st)",
          "11- (1st)",
          "12- (1st)",
          "01- (2nd)",
          "02- (2nd)",
          "03- (2nd)",
          "04- (2nd)",
          "05- (2nd)",
          "06- (2nd)",
          "07- (2nd)"
         ],
         "y": [
          0.5517241379310345,
          0.7241379310344828,
          0.4482758620689655,
          0.6551724137931034,
          0.6551724137931034,
          0.3793103448275862,
          0.3103448275862069,
          0.6551724137931034,
          0.4482758620689655,
          0.41379310344827586,
          0.41379310344827586,
          0.1724137931034483,
          0.10344827586206896,
          0.5517241379310345,
          0.20689655172413793,
          1,
          0.41379310344827586,
          0
         ]
        }
       ],
       "layout": {
        "template": {
         "data": {
          "bar": [
           {
            "error_x": {
             "color": "#2a3f5f"
            },
            "error_y": {
             "color": "#2a3f5f"
            },
            "marker": {
             "line": {
              "color": "#E5ECF6",
              "width": 0.5
             },
             "pattern": {
              "fillmode": "overlay",
              "size": 10,
              "solidity": 0.2
             }
            },
            "type": "bar"
           }
          ],
          "barpolar": [
           {
            "marker": {
             "line": {
              "color": "#E5ECF6",
              "width": 0.5
             },
             "pattern": {
              "fillmode": "overlay",
              "size": 10,
              "solidity": 0.2
             }
            },
            "type": "barpolar"
           }
          ],
          "carpet": [
           {
            "aaxis": {
             "endlinecolor": "#2a3f5f",
             "gridcolor": "white",
             "linecolor": "white",
             "minorgridcolor": "white",
             "startlinecolor": "#2a3f5f"
            },
            "baxis": {
             "endlinecolor": "#2a3f5f",
             "gridcolor": "white",
             "linecolor": "white",
             "minorgridcolor": "white",
             "startlinecolor": "#2a3f5f"
            },
            "type": "carpet"
           }
          ],
          "choropleth": [
           {
            "colorbar": {
             "outlinewidth": 0,
             "ticks": ""
            },
            "type": "choropleth"
           }
          ],
          "contour": [
           {
            "colorbar": {
             "outlinewidth": 0,
             "ticks": ""
            },
            "colorscale": [
             [
              0,
              "#0d0887"
             ],
             [
              0.1111111111111111,
              "#46039f"
             ],
             [
              0.2222222222222222,
              "#7201a8"
             ],
             [
              0.3333333333333333,
              "#9c179e"
             ],
             [
              0.4444444444444444,
              "#bd3786"
             ],
             [
              0.5555555555555556,
              "#d8576b"
             ],
             [
              0.6666666666666666,
              "#ed7953"
             ],
             [
              0.7777777777777778,
              "#fb9f3a"
             ],
             [
              0.8888888888888888,
              "#fdca26"
             ],
             [
              1,
              "#f0f921"
             ]
            ],
            "type": "contour"
           }
          ],
          "contourcarpet": [
           {
            "colorbar": {
             "outlinewidth": 0,
             "ticks": ""
            },
            "type": "contourcarpet"
           }
          ],
          "heatmap": [
           {
            "colorbar": {
             "outlinewidth": 0,
             "ticks": ""
            },
            "colorscale": [
             [
              0,
              "#0d0887"
             ],
             [
              0.1111111111111111,
              "#46039f"
             ],
             [
              0.2222222222222222,
              "#7201a8"
             ],
             [
              0.3333333333333333,
              "#9c179e"
             ],
             [
              0.4444444444444444,
              "#bd3786"
             ],
             [
              0.5555555555555556,
              "#d8576b"
             ],
             [
              0.6666666666666666,
              "#ed7953"
             ],
             [
              0.7777777777777778,
              "#fb9f3a"
             ],
             [
              0.8888888888888888,
              "#fdca26"
             ],
             [
              1,
              "#f0f921"
             ]
            ],
            "type": "heatmap"
           }
          ],
          "heatmapgl": [
           {
            "colorbar": {
             "outlinewidth": 0,
             "ticks": ""
            },
            "colorscale": [
             [
              0,
              "#0d0887"
             ],
             [
              0.1111111111111111,
              "#46039f"
             ],
             [
              0.2222222222222222,
              "#7201a8"
             ],
             [
              0.3333333333333333,
              "#9c179e"
             ],
             [
              0.4444444444444444,
              "#bd3786"
             ],
             [
              0.5555555555555556,
              "#d8576b"
             ],
             [
              0.6666666666666666,
              "#ed7953"
             ],
             [
              0.7777777777777778,
              "#fb9f3a"
             ],
             [
              0.8888888888888888,
              "#fdca26"
             ],
             [
              1,
              "#f0f921"
             ]
            ],
            "type": "heatmapgl"
           }
          ],
          "histogram": [
           {
            "marker": {
             "pattern": {
              "fillmode": "overlay",
              "size": 10,
              "solidity": 0.2
             }
            },
            "type": "histogram"
           }
          ],
          "histogram2d": [
           {
            "colorbar": {
             "outlinewidth": 0,
             "ticks": ""
            },
            "colorscale": [
             [
              0,
              "#0d0887"
             ],
             [
              0.1111111111111111,
              "#46039f"
             ],
             [
              0.2222222222222222,
              "#7201a8"
             ],
             [
              0.3333333333333333,
              "#9c179e"
             ],
             [
              0.4444444444444444,
              "#bd3786"
             ],
             [
              0.5555555555555556,
              "#d8576b"
             ],
             [
              0.6666666666666666,
              "#ed7953"
             ],
             [
              0.7777777777777778,
              "#fb9f3a"
             ],
             [
              0.8888888888888888,
              "#fdca26"
             ],
             [
              1,
              "#f0f921"
             ]
            ],
            "type": "histogram2d"
           }
          ],
          "histogram2dcontour": [
           {
            "colorbar": {
             "outlinewidth": 0,
             "ticks": ""
            },
            "colorscale": [
             [
              0,
              "#0d0887"
             ],
             [
              0.1111111111111111,
              "#46039f"
             ],
             [
              0.2222222222222222,
              "#7201a8"
             ],
             [
              0.3333333333333333,
              "#9c179e"
             ],
             [
              0.4444444444444444,
              "#bd3786"
             ],
             [
              0.5555555555555556,
              "#d8576b"
             ],
             [
              0.6666666666666666,
              "#ed7953"
             ],
             [
              0.7777777777777778,
              "#fb9f3a"
             ],
             [
              0.8888888888888888,
              "#fdca26"
             ],
             [
              1,
              "#f0f921"
             ]
            ],
            "type": "histogram2dcontour"
           }
          ],
          "mesh3d": [
           {
            "colorbar": {
             "outlinewidth": 0,
             "ticks": ""
            },
            "type": "mesh3d"
           }
          ],
          "parcoords": [
           {
            "line": {
             "colorbar": {
              "outlinewidth": 0,
              "ticks": ""
             }
            },
            "type": "parcoords"
           }
          ],
          "pie": [
           {
            "automargin": true,
            "type": "pie"
           }
          ],
          "scatter": [
           {
            "fillpattern": {
             "fillmode": "overlay",
             "size": 10,
             "solidity": 0.2
            },
            "type": "scatter"
           }
          ],
          "scatter3d": [
           {
            "line": {
             "colorbar": {
              "outlinewidth": 0,
              "ticks": ""
             }
            },
            "marker": {
             "colorbar": {
              "outlinewidth": 0,
              "ticks": ""
             }
            },
            "type": "scatter3d"
           }
          ],
          "scattercarpet": [
           {
            "marker": {
             "colorbar": {
              "outlinewidth": 0,
              "ticks": ""
             }
            },
            "type": "scattercarpet"
           }
          ],
          "scattergeo": [
           {
            "marker": {
             "colorbar": {
              "outlinewidth": 0,
              "ticks": ""
             }
            },
            "type": "scattergeo"
           }
          ],
          "scattergl": [
           {
            "marker": {
             "colorbar": {
              "outlinewidth": 0,
              "ticks": ""
             }
            },
            "type": "scattergl"
           }
          ],
          "scattermapbox": [
           {
            "marker": {
             "colorbar": {
              "outlinewidth": 0,
              "ticks": ""
             }
            },
            "type": "scattermapbox"
           }
          ],
          "scatterpolar": [
           {
            "marker": {
             "colorbar": {
              "outlinewidth": 0,
              "ticks": ""
             }
            },
            "type": "scatterpolar"
           }
          ],
          "scatterpolargl": [
           {
            "marker": {
             "colorbar": {
              "outlinewidth": 0,
              "ticks": ""
             }
            },
            "type": "scatterpolargl"
           }
          ],
          "scatterternary": [
           {
            "marker": {
             "colorbar": {
              "outlinewidth": 0,
              "ticks": ""
             }
            },
            "type": "scatterternary"
           }
          ],
          "surface": [
           {
            "colorbar": {
             "outlinewidth": 0,
             "ticks": ""
            },
            "colorscale": [
             [
              0,
              "#0d0887"
             ],
             [
              0.1111111111111111,
              "#46039f"
             ],
             [
              0.2222222222222222,
              "#7201a8"
             ],
             [
              0.3333333333333333,
              "#9c179e"
             ],
             [
              0.4444444444444444,
              "#bd3786"
             ],
             [
              0.5555555555555556,
              "#d8576b"
             ],
             [
              0.6666666666666666,
              "#ed7953"
             ],
             [
              0.7777777777777778,
              "#fb9f3a"
             ],
             [
              0.8888888888888888,
              "#fdca26"
             ],
             [
              1,
              "#f0f921"
             ]
            ],
            "type": "surface"
           }
          ],
          "table": [
           {
            "cells": {
             "fill": {
              "color": "#EBF0F8"
             },
             "line": {
              "color": "white"
             }
            },
            "header": {
             "fill": {
              "color": "#C8D4E3"
             },
             "line": {
              "color": "white"
             }
            },
            "type": "table"
           }
          ]
         },
         "layout": {
          "annotationdefaults": {
           "arrowcolor": "#2a3f5f",
           "arrowhead": 0,
           "arrowwidth": 1
          },
          "autotypenumbers": "strict",
          "coloraxis": {
           "colorbar": {
            "outlinewidth": 0,
            "ticks": ""
           }
          },
          "colorscale": {
           "diverging": [
            [
             0,
             "#8e0152"
            ],
            [
             0.1,
             "#c51b7d"
            ],
            [
             0.2,
             "#de77ae"
            ],
            [
             0.3,
             "#f1b6da"
            ],
            [
             0.4,
             "#fde0ef"
            ],
            [
             0.5,
             "#f7f7f7"
            ],
            [
             0.6,
             "#e6f5d0"
            ],
            [
             0.7,
             "#b8e186"
            ],
            [
             0.8,
             "#7fbc41"
            ],
            [
             0.9,
             "#4d9221"
            ],
            [
             1,
             "#276419"
            ]
           ],
           "sequential": [
            [
             0,
             "#0d0887"
            ],
            [
             0.1111111111111111,
             "#46039f"
            ],
            [
             0.2222222222222222,
             "#7201a8"
            ],
            [
             0.3333333333333333,
             "#9c179e"
            ],
            [
             0.4444444444444444,
             "#bd3786"
            ],
            [
             0.5555555555555556,
             "#d8576b"
            ],
            [
             0.6666666666666666,
             "#ed7953"
            ],
            [
             0.7777777777777778,
             "#fb9f3a"
            ],
            [
             0.8888888888888888,
             "#fdca26"
            ],
            [
             1,
             "#f0f921"
            ]
           ],
           "sequentialminus": [
            [
             0,
             "#0d0887"
            ],
            [
             0.1111111111111111,
             "#46039f"
            ],
            [
             0.2222222222222222,
             "#7201a8"
            ],
            [
             0.3333333333333333,
             "#9c179e"
            ],
            [
             0.4444444444444444,
             "#bd3786"
            ],
            [
             0.5555555555555556,
             "#d8576b"
            ],
            [
             0.6666666666666666,
             "#ed7953"
            ],
            [
             0.7777777777777778,
             "#fb9f3a"
            ],
            [
             0.8888888888888888,
             "#fdca26"
            ],
            [
             1,
             "#f0f921"
            ]
           ]
          },
          "colorway": [
           "#636efa",
           "#EF553B",
           "#00cc96",
           "#ab63fa",
           "#FFA15A",
           "#19d3f3",
           "#FF6692",
           "#B6E880",
           "#FF97FF",
           "#FECB52"
          ],
          "font": {
           "color": "#2a3f5f"
          },
          "geo": {
           "bgcolor": "white",
           "lakecolor": "white",
           "landcolor": "#E5ECF6",
           "showlakes": true,
           "showland": true,
           "subunitcolor": "white"
          },
          "hoverlabel": {
           "align": "left"
          },
          "hovermode": "closest",
          "mapbox": {
           "style": "light"
          },
          "paper_bgcolor": "white",
          "plot_bgcolor": "#E5ECF6",
          "polar": {
           "angularaxis": {
            "gridcolor": "white",
            "linecolor": "white",
            "ticks": ""
           },
           "bgcolor": "#E5ECF6",
           "radialaxis": {
            "gridcolor": "white",
            "linecolor": "white",
            "ticks": ""
           }
          },
          "scene": {
           "xaxis": {
            "backgroundcolor": "#E5ECF6",
            "gridcolor": "white",
            "gridwidth": 2,
            "linecolor": "white",
            "showbackground": true,
            "ticks": "",
            "zerolinecolor": "white"
           },
           "yaxis": {
            "backgroundcolor": "#E5ECF6",
            "gridcolor": "white",
            "gridwidth": 2,
            "linecolor": "white",
            "showbackground": true,
            "ticks": "",
            "zerolinecolor": "white"
           },
           "zaxis": {
            "backgroundcolor": "#E5ECF6",
            "gridcolor": "white",
            "gridwidth": 2,
            "linecolor": "white",
            "showbackground": true,
            "ticks": "",
            "zerolinecolor": "white"
           }
          },
          "shapedefaults": {
           "line": {
            "color": "#2a3f5f"
           }
          },
          "ternary": {
           "aaxis": {
            "gridcolor": "white",
            "linecolor": "white",
            "ticks": ""
           },
           "baxis": {
            "gridcolor": "white",
            "linecolor": "white",
            "ticks": ""
           },
           "bgcolor": "#E5ECF6",
           "caxis": {
            "gridcolor": "white",
            "linecolor": "white",
            "ticks": ""
           }
          },
          "title": {
           "x": 0.05
          },
          "xaxis": {
           "automargin": true,
           "gridcolor": "white",
           "linecolor": "white",
           "ticks": "",
           "title": {
            "standoff": 15
           },
           "zerolinecolor": "white",
           "zerolinewidth": 2
          },
          "yaxis": {
           "automargin": true,
           "gridcolor": "white",
           "linecolor": "white",
           "ticks": "",
           "title": {
            "standoff": 15
           },
           "zerolinecolor": "white",
           "zerolinewidth": 2
          }
         }
        },
        "title": {
         "text": "Wheat Data W_N-U-Z24"
        },
        "xaxis": {
         "title": {
          "text": "Month"
         }
        },
        "yaxis": {
         "title": {
          "text": "Value"
         }
        }
       }
      }
     },
     "metadata": {},
     "output_type": "display_data"
    }
   ],
   "source": [
    "fig = go.Figure()\n",
    "main_df['Month'] = main_df['Month'].astype(str)\n",
    "fig.add_trace(go.Scatter(x=main_df['Month'], y=main_df['Mean'], mode='lines+markers',name=\"Mean\"))\n",
    "fig.add_trace(go.Scatter(x=main_df['Month'], y=main_df[2024], mode='lines+markers',name=\"2024\"))\n",
    "\n",
    "fig.update_layout(\n",
    "        title='Wheat Data ' + str_detail,\n",
    "        xaxis_title='Month',\n",
    "        yaxis_title='Value'\n",
    "    )\n",
    "# pio.write_image(fig, './data/'+str_detail+'.png')\n",
    "fig.show()"
   ]
  },
  {
   "cell_type": "code",
   "execution_count": 65,
   "metadata": {},
   "outputs": [
    {
     "data": {
      "image/png": "[encoded data removed]",
      "text/plain": [
       "<Figure size 864x576 with 4 Axes>"
      ]
     },
     "metadata": {
      "needs_background": "light"
     },
     "output_type": "display_data"
    }
   ],
   "source": [
    "decomposition = seasonal_decompose(main_df[2023], model='additive', period=6)\n",
    "trend = decomposition.trend\n",
    "seasonal = decomposition.seasonal\n",
    "residual = decomposition.resid\n",
    "\n",
    "plt.figure(figsize=(12, 8))\n",
    "plt.subplot(411)\n",
    "plt.plot(main_df[2023], label='Original')\n",
    "plt.legend(loc='best')\n",
    "plt.subplot(412)\n",
    "plt.plot(trend, label='Trend')\n",
    "plt.legend(loc='best')\n",
    "plt.subplot(413)\n",
    "plt.plot(seasonal, label='Seasonality')\n",
    "plt.legend(loc='best')\n",
    "plt.subplot(414)\n",
    "plt.plot(residual, label='Residuals')\n",
    "plt.legend(loc='best')\n",
    "plt.tight_layout()\n",
    "plt.show()\n"
   ]
  }
 ],
 "metadata": {
  "kernelspec": {
   "display_name": "base",
   "language": "python",
   "name": "python3"
  },
  "language_info": {
   "codemirror_mode": {
    "name": "ipython",
    "version": 3
   },
   "file_extension": ".py",
   "mimetype": "text/x-python",
   "name": "python",
   "nbconvert_exporter": "python",
   "pygments_lexer": "ipython3",
   "version": "3.8.5"
  }
 },
 "nbformat": 4,
 "nbformat_minor": 2
}
