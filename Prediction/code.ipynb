{
 "cells": [
  {
   "cell_type": "code",
   "execution_count": 11,
   "metadata": {},
   "outputs": [],
   "source": [
    "import pandas as pd\n",
    "import numpy as np\n",
    "import os"
   ]
  },
  {
   "cell_type": "code",
   "execution_count": 12,
   "metadata": {},
   "outputs": [],
   "source": [
    "def extract_yearly_highs_lows(file_path, drop_na=True):\n",
    "    # Load the CSV file\n",
    "    data = pd.read_csv(file_path)\n",
    "    # Initialize a dictionary to store the results\n",
    "    yearly_stats = {}\n",
    "    # Extract the range of years from the columns\n",
    "    years = range(2004, 2025)\n",
    "    # Iterate through each year\n",
    "    for year in years:\n",
    "        date_col = f'Timestamp.{year}'\n",
    "        price_col = str(year)\n",
    "        # Check if the expected columns are present\n",
    "        if date_col in data.columns and price_col in data.columns:\n",
    "            # Handle missing values in the timestamps\n",
    "            if drop_na:\n",
    "                year_data = data[[date_col, price_col]].dropna()\n",
    "            else:\n",
    "                year_data = data[[date_col, price_col]].fillna({date_col: 0}).dropna(subset=[price_col])\n",
    "            if not year_data.empty:\n",
    "                \n",
    "                data_df = {\n",
    "                    'Date': year_data[date_col],\n",
    "                    'Price': year_data[price_col]\n",
    "                }\n",
    "                data_df = pd.DataFrame(data_df)\n",
    "                base_path = \"/workspaces/Futures-First/Prediction/data\"\n",
    "                file_name = f\"{year}.csv\"\n",
    "                full_path = os.path.join(base_path, file_name)\n",
    "\n",
    "                # Save DataFrame to CSV\n",
    "                data_df.to_csv(full_path, index=False)\n",
    "                # print(year_data[price_col])\n",
    "        else:\n",
    "            print(f\"Columns for the year {year} are missing in the data\")\n",
    "    return data_df"
   ]
  },
  {
   "cell_type": "code",
   "execution_count": 13,
   "metadata": {},
   "outputs": [],
   "source": [
    "df = extract_yearly_highs_lows('/workspaces/Futures-First/data/W_U24-Z24-H25.csv')\n",
    "# df"
   ]
  },
  {
   "cell_type": "code",
   "execution_count": null,
   "metadata": {},
   "outputs": [],
   "source": []
  }
 ],
 "metadata": {
  "kernelspec": {
   "display_name": "base",
   "language": "python",
   "name": "python3"
  },
  "language_info": {
   "codemirror_mode": {
    "name": "ipython",
    "version": 3
   },
   "file_extension": ".py",
   "mimetype": "text/x-python",
   "name": "python",
   "nbconvert_exporter": "python",
   "pygments_lexer": "ipython3",
   "version": "3.10.13"
  }
 },
 "nbformat": 4,
 "nbformat_minor": 2
}
