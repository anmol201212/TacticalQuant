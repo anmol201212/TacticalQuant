{
  "cells": [
    {
      "cell_type": "code",
      "execution_count": 41,
      "id": "2a4fdd0f",
      "metadata": {
        "colab": {
          "base_uri": "https://localhost:8080/",
          "height": 423
        },
        "id": "2a4fdd0f",
        "outputId": "d758fb02-8b42-4705-d4bd-bcaa6df69ea7"
      },
      "outputs": [
        {
          "data": {
            "text/html": [
              "<div>\n",
              "<style scoped>\n",
              "    .dataframe tbody tr th:only-of-type {\n",
              "        vertical-align: middle;\n",
              "    }\n",
              "\n",
              "    .dataframe tbody tr th {\n",
              "        vertical-align: top;\n",
              "    }\n",
              "\n",
              "    .dataframe thead th {\n",
              "        text-align: right;\n",
              "    }\n",
              "</style>\n",
              "<table border=\"1\" class=\"dataframe\">\n",
              "  <thead>\n",
              "    <tr style=\"text-align: right;\">\n",
              "      <th></th>\n",
              "      <th>Date</th>\n",
              "      <th>Price</th>\n",
              "    </tr>\n",
              "  </thead>\n",
              "  <tbody>\n",
              "    <tr>\n",
              "      <th>0</th>\n",
              "      <td>2013-04-09</td>\n",
              "      <td>-18.00</td>\n",
              "    </tr>\n",
              "    <tr>\n",
              "      <th>1</th>\n",
              "      <td>2013-04-10</td>\n",
              "      <td>-6.50</td>\n",
              "    </tr>\n",
              "    <tr>\n",
              "      <th>2</th>\n",
              "      <td>2013-04-11</td>\n",
              "      <td>-4.50</td>\n",
              "    </tr>\n",
              "    <tr>\n",
              "      <th>3</th>\n",
              "      <td>2013-04-12</td>\n",
              "      <td>-26.25</td>\n",
              "    </tr>\n",
              "    <tr>\n",
              "      <th>4</th>\n",
              "      <td>2013-04-13</td>\n",
              "      <td>-26.25</td>\n",
              "    </tr>\n",
              "    <tr>\n",
              "      <th>...</th>\n",
              "      <td>...</td>\n",
              "      <td>...</td>\n",
              "    </tr>\n",
              "    <tr>\n",
              "      <th>516</th>\n",
              "      <td>2014-09-07</td>\n",
              "      <td>14.00</td>\n",
              "    </tr>\n",
              "    <tr>\n",
              "      <th>517</th>\n",
              "      <td>2014-09-08</td>\n",
              "      <td>17.25</td>\n",
              "    </tr>\n",
              "    <tr>\n",
              "      <th>518</th>\n",
              "      <td>2014-09-09</td>\n",
              "      <td>16.50</td>\n",
              "    </tr>\n",
              "    <tr>\n",
              "      <th>519</th>\n",
              "      <td>2014-09-10</td>\n",
              "      <td>15.25</td>\n",
              "    </tr>\n",
              "    <tr>\n",
              "      <th>520</th>\n",
              "      <td>2014-09-11</td>\n",
              "      <td>10.25</td>\n",
              "    </tr>\n",
              "  </tbody>\n",
              "</table>\n",
              "<p>521 rows × 2 columns</p>\n",
              "</div>"
            ],
            "text/plain": [
              "           Date  Price\n",
              "0    2013-04-09 -18.00\n",
              "1    2013-04-10  -6.50\n",
              "2    2013-04-11  -4.50\n",
              "3    2013-04-12 -26.25\n",
              "4    2013-04-13 -26.25\n",
              "..          ...    ...\n",
              "516  2014-09-07  14.00\n",
              "517  2014-09-08  17.25\n",
              "518  2014-09-09  16.50\n",
              "519  2014-09-10  15.25\n",
              "520  2014-09-11  10.25\n",
              "\n",
              "[521 rows x 2 columns]"
            ]
          },
          "execution_count": 41,
          "metadata": {},
          "output_type": "execute_result"
        }
      ],
      "source": [
        "import pandas as pd\n",
        "import numpy as np\n",
        "import matplotlib.pyplot as plt\n",
        "\n",
        "import torch\n",
        "import torch.nn as nn\n",
        "\n",
        "files = ['./data/2004.csv', './data/2005.csv', './data/2006.csv','./data/2007.csv', './data/2008.csv', './data/2009.csv','./data/2010.csv', './data/2011.csv', './data/2012.csv','./data/2013.csv', './data/2014.csv', './data/2015.csv','./data/2016.csv', './data/2017.csv', './data/2018.csv','./data/2019.csv', './data/2020.csv', './data/2021.csv','./data/2022.csv', './data/2023.csv', './data/2024.csv']  \n",
        "\n",
        "data = pd.read_csv(files[10])\n",
        "\n",
        "data"
      ]
    },
    {
      "cell_type": "code",
      "execution_count": 24,
      "id": "WtCP8-cDbg9R",
      "metadata": {
        "colab": {
          "base_uri": "https://localhost:8080/",
          "height": 423
        },
        "id": "WtCP8-cDbg9R",
        "outputId": "1a923823-8c15-4765-c9c9-19a233dc8131"
      },
      "outputs": [
        {
          "data": {
            "text/html": [
              "<div>\n",
              "<style scoped>\n",
              "    .dataframe tbody tr th:only-of-type {\n",
              "        vertical-align: middle;\n",
              "    }\n",
              "\n",
              "    .dataframe tbody tr th {\n",
              "        vertical-align: top;\n",
              "    }\n",
              "\n",
              "    .dataframe thead th {\n",
              "        text-align: right;\n",
              "    }\n",
              "</style>\n",
              "<table border=\"1\" class=\"dataframe\">\n",
              "  <thead>\n",
              "    <tr style=\"text-align: right;\">\n",
              "      <th></th>\n",
              "      <th>Date</th>\n",
              "      <th>Price</th>\n",
              "    </tr>\n",
              "  </thead>\n",
              "  <tbody>\n",
              "    <tr>\n",
              "      <th>0</th>\n",
              "      <td>2013-04-09</td>\n",
              "      <td>-18.00</td>\n",
              "    </tr>\n",
              "    <tr>\n",
              "      <th>1</th>\n",
              "      <td>2013-04-10</td>\n",
              "      <td>-6.50</td>\n",
              "    </tr>\n",
              "    <tr>\n",
              "      <th>2</th>\n",
              "      <td>2013-04-11</td>\n",
              "      <td>-4.50</td>\n",
              "    </tr>\n",
              "    <tr>\n",
              "      <th>3</th>\n",
              "      <td>2013-04-12</td>\n",
              "      <td>-26.25</td>\n",
              "    </tr>\n",
              "    <tr>\n",
              "      <th>4</th>\n",
              "      <td>2013-04-13</td>\n",
              "      <td>-26.25</td>\n",
              "    </tr>\n",
              "    <tr>\n",
              "      <th>...</th>\n",
              "      <td>...</td>\n",
              "      <td>...</td>\n",
              "    </tr>\n",
              "    <tr>\n",
              "      <th>516</th>\n",
              "      <td>2014-09-07</td>\n",
              "      <td>14.00</td>\n",
              "    </tr>\n",
              "    <tr>\n",
              "      <th>517</th>\n",
              "      <td>2014-09-08</td>\n",
              "      <td>17.25</td>\n",
              "    </tr>\n",
              "    <tr>\n",
              "      <th>518</th>\n",
              "      <td>2014-09-09</td>\n",
              "      <td>16.50</td>\n",
              "    </tr>\n",
              "    <tr>\n",
              "      <th>519</th>\n",
              "      <td>2014-09-10</td>\n",
              "      <td>15.25</td>\n",
              "    </tr>\n",
              "    <tr>\n",
              "      <th>520</th>\n",
              "      <td>2014-09-11</td>\n",
              "      <td>10.25</td>\n",
              "    </tr>\n",
              "  </tbody>\n",
              "</table>\n",
              "<p>521 rows × 2 columns</p>\n",
              "</div>"
            ],
            "text/plain": [
              "          Date  Price\n",
              "0   2013-04-09 -18.00\n",
              "1   2013-04-10  -6.50\n",
              "2   2013-04-11  -4.50\n",
              "3   2013-04-12 -26.25\n",
              "4   2013-04-13 -26.25\n",
              "..         ...    ...\n",
              "516 2014-09-07  14.00\n",
              "517 2014-09-08  17.25\n",
              "518 2014-09-09  16.50\n",
              "519 2014-09-10  15.25\n",
              "520 2014-09-11  10.25\n",
              "\n",
              "[521 rows x 2 columns]"
            ]
          },
          "execution_count": 24,
          "metadata": {},
          "output_type": "execute_result"
        }
      ],
      "source": [
        "data = data[['Date', 'Price']]\n",
        "data"
      ]
    },
    {
      "cell_type": "code",
      "execution_count": 40,
      "id": "9akB333XcFJ6",
      "metadata": {
        "colab": {
          "base_uri": "https://localhost:8080/",
          "height": 36
        },
        "id": "9akB333XcFJ6",
        "outputId": "2e8630de-1369-4281-d87c-9634ed90ba97"
      },
      "outputs": [
        {
          "data": {
            "text/plain": [
              "'cpu'"
            ]
          },
          "execution_count": 40,
          "metadata": {},
          "output_type": "execute_result"
        }
      ],
      "source": [
        "device = 'cuda:0' if torch.cuda.is_available() else 'cpu'\n",
        "device"
      ]
    },
    {
      "cell_type": "code",
      "execution_count": 25,
      "id": "tr2YuqKGcXcJ",
      "metadata": {
        "colab": {
          "base_uri": "https://localhost:8080/",
          "height": 551
        },
        "id": "tr2YuqKGcXcJ",
        "outputId": "bd197a93-bf7f-413c-fac0-5f4dc1a8471d"
      },
      "outputs": [
        {
          "data": {
            "text/plain": [
              "[<matplotlib.lines.Line2D at 0x70829ee93fa0>]"
            ]
          },
          "execution_count": 25,
          "metadata": {},
          "output_type": "execute_result"
        },
        {
          "data": {
            "image/png": "[encoded data removed]",
            "text/plain": [
              "<Figure size 640x480 with 1 Axes>"
            ]
          },
          "metadata": {},
          "output_type": "display_data"
        }
      ],
      "source": [
        "data['Date'] = pd.to_datetime(data['Date'])\n",
        "\n",
        "plt.plot(data['Date'], data['Price'])"
      ]
    },
    {
      "cell_type": "code",
      "execution_count": 26,
      "id": "Q4ma6QCscwfB",
      "metadata": {
        "colab": {
          "base_uri": "https://localhost:8080/",
          "height": 455
        },
        "id": "Q4ma6QCscwfB",
        "outputId": "61bd4c08-c3f7-453d-ed92-c2232a18a5ba"
      },
      "outputs": [
        {
          "data": {
            "text/html": [
              "<div>\n",
              "<style scoped>\n",
              "    .dataframe tbody tr th:only-of-type {\n",
              "        vertical-align: middle;\n",
              "    }\n",
              "\n",
              "    .dataframe tbody tr th {\n",
              "        vertical-align: top;\n",
              "    }\n",
              "\n",
              "    .dataframe thead th {\n",
              "        text-align: right;\n",
              "    }\n",
              "</style>\n",
              "<table border=\"1\" class=\"dataframe\">\n",
              "  <thead>\n",
              "    <tr style=\"text-align: right;\">\n",
              "      <th></th>\n",
              "      <th>Price</th>\n",
              "      <th>Price(t-1)</th>\n",
              "      <th>Price(t-2)</th>\n",
              "      <th>Price(t-3)</th>\n",
              "      <th>Price(t-4)</th>\n",
              "      <th>Price(t-5)</th>\n",
              "      <th>Price(t-6)</th>\n",
              "      <th>Price(t-7)</th>\n",
              "    </tr>\n",
              "    <tr>\n",
              "      <th>Date</th>\n",
              "      <th></th>\n",
              "      <th></th>\n",
              "      <th></th>\n",
              "      <th></th>\n",
              "      <th></th>\n",
              "      <th></th>\n",
              "      <th></th>\n",
              "      <th></th>\n",
              "    </tr>\n",
              "  </thead>\n",
              "  <tbody>\n",
              "    <tr>\n",
              "      <th>2013-04-16</th>\n",
              "      <td>-5.25</td>\n",
              "      <td>8.25</td>\n",
              "      <td>-26.25</td>\n",
              "      <td>-26.25</td>\n",
              "      <td>-26.25</td>\n",
              "      <td>-4.50</td>\n",
              "      <td>-6.50</td>\n",
              "      <td>-18.00</td>\n",
              "    </tr>\n",
              "    <tr>\n",
              "      <th>2013-04-17</th>\n",
              "      <td>-3.25</td>\n",
              "      <td>-5.25</td>\n",
              "      <td>8.25</td>\n",
              "      <td>-26.25</td>\n",
              "      <td>-26.25</td>\n",
              "      <td>-26.25</td>\n",
              "      <td>-4.50</td>\n",
              "      <td>-6.50</td>\n",
              "    </tr>\n",
              "    <tr>\n",
              "      <th>2013-04-18</th>\n",
              "      <td>-9.00</td>\n",
              "      <td>-3.25</td>\n",
              "      <td>-5.25</td>\n",
              "      <td>8.25</td>\n",
              "      <td>-26.25</td>\n",
              "      <td>-26.25</td>\n",
              "      <td>-26.25</td>\n",
              "      <td>-4.50</td>\n",
              "    </tr>\n",
              "    <tr>\n",
              "      <th>2013-04-19</th>\n",
              "      <td>-10.00</td>\n",
              "      <td>-9.00</td>\n",
              "      <td>-3.25</td>\n",
              "      <td>-5.25</td>\n",
              "      <td>8.25</td>\n",
              "      <td>-26.25</td>\n",
              "      <td>-26.25</td>\n",
              "      <td>-26.25</td>\n",
              "    </tr>\n",
              "    <tr>\n",
              "      <th>2013-04-20</th>\n",
              "      <td>-10.00</td>\n",
              "      <td>-10.00</td>\n",
              "      <td>-9.00</td>\n",
              "      <td>-3.25</td>\n",
              "      <td>-5.25</td>\n",
              "      <td>8.25</td>\n",
              "      <td>-26.25</td>\n",
              "      <td>-26.25</td>\n",
              "    </tr>\n",
              "    <tr>\n",
              "      <th>...</th>\n",
              "      <td>...</td>\n",
              "      <td>...</td>\n",
              "      <td>...</td>\n",
              "      <td>...</td>\n",
              "      <td>...</td>\n",
              "      <td>...</td>\n",
              "      <td>...</td>\n",
              "      <td>...</td>\n",
              "    </tr>\n",
              "    <tr>\n",
              "      <th>2014-09-07</th>\n",
              "      <td>14.00</td>\n",
              "      <td>14.00</td>\n",
              "      <td>14.00</td>\n",
              "      <td>14.75</td>\n",
              "      <td>8.50</td>\n",
              "      <td>7.00</td>\n",
              "      <td>7.00</td>\n",
              "      <td>5.75</td>\n",
              "    </tr>\n",
              "    <tr>\n",
              "      <th>2014-09-08</th>\n",
              "      <td>17.25</td>\n",
              "      <td>14.00</td>\n",
              "      <td>14.00</td>\n",
              "      <td>14.00</td>\n",
              "      <td>14.75</td>\n",
              "      <td>8.50</td>\n",
              "      <td>7.00</td>\n",
              "      <td>7.00</td>\n",
              "    </tr>\n",
              "    <tr>\n",
              "      <th>2014-09-09</th>\n",
              "      <td>16.50</td>\n",
              "      <td>17.25</td>\n",
              "      <td>14.00</td>\n",
              "      <td>14.00</td>\n",
              "      <td>14.00</td>\n",
              "      <td>14.75</td>\n",
              "      <td>8.50</td>\n",
              "      <td>7.00</td>\n",
              "    </tr>\n",
              "    <tr>\n",
              "      <th>2014-09-10</th>\n",
              "      <td>15.25</td>\n",
              "      <td>16.50</td>\n",
              "      <td>17.25</td>\n",
              "      <td>14.00</td>\n",
              "      <td>14.00</td>\n",
              "      <td>14.00</td>\n",
              "      <td>14.75</td>\n",
              "      <td>8.50</td>\n",
              "    </tr>\n",
              "    <tr>\n",
              "      <th>2014-09-11</th>\n",
              "      <td>10.25</td>\n",
              "      <td>15.25</td>\n",
              "      <td>16.50</td>\n",
              "      <td>17.25</td>\n",
              "      <td>14.00</td>\n",
              "      <td>14.00</td>\n",
              "      <td>14.00</td>\n",
              "      <td>14.75</td>\n",
              "    </tr>\n",
              "  </tbody>\n",
              "</table>\n",
              "<p>514 rows × 8 columns</p>\n",
              "</div>"
            ],
            "text/plain": [
              "            Price  Price(t-1)  Price(t-2)  Price(t-3)  Price(t-4)  Price(t-5)  \\\n",
              "Date                                                                            \n",
              "2013-04-16  -5.25        8.25      -26.25      -26.25      -26.25       -4.50   \n",
              "2013-04-17  -3.25       -5.25        8.25      -26.25      -26.25      -26.25   \n",
              "2013-04-18  -9.00       -3.25       -5.25        8.25      -26.25      -26.25   \n",
              "2013-04-19 -10.00       -9.00       -3.25       -5.25        8.25      -26.25   \n",
              "2013-04-20 -10.00      -10.00       -9.00       -3.25       -5.25        8.25   \n",
              "...           ...         ...         ...         ...         ...         ...   \n",
              "2014-09-07  14.00       14.00       14.00       14.75        8.50        7.00   \n",
              "2014-09-08  17.25       14.00       14.00       14.00       14.75        8.50   \n",
              "2014-09-09  16.50       17.25       14.00       14.00       14.00       14.75   \n",
              "2014-09-10  15.25       16.50       17.25       14.00       14.00       14.00   \n",
              "2014-09-11  10.25       15.25       16.50       17.25       14.00       14.00   \n",
              "\n",
              "            Price(t-6)  Price(t-7)  \n",
              "Date                                \n",
              "2013-04-16       -6.50      -18.00  \n",
              "2013-04-17       -4.50       -6.50  \n",
              "2013-04-18      -26.25       -4.50  \n",
              "2013-04-19      -26.25      -26.25  \n",
              "2013-04-20      -26.25      -26.25  \n",
              "...                ...         ...  \n",
              "2014-09-07        7.00        5.75  \n",
              "2014-09-08        7.00        7.00  \n",
              "2014-09-09        8.50        7.00  \n",
              "2014-09-10       14.75        8.50  \n",
              "2014-09-11       14.00       14.75  \n",
              "\n",
              "[514 rows x 8 columns]"
            ]
          },
          "execution_count": 26,
          "metadata": {},
          "output_type": "execute_result"
        }
      ],
      "source": [
        "from copy import deepcopy as dc\n",
        "\n",
        "def prepare_dataframe_for_lstm(df, n_steps):\n",
        "    df = dc(df)\n",
        "\n",
        "    df.set_index('Date', inplace=True)\n",
        "\n",
        "    for i in range(1, n_steps+1):\n",
        "        df[f'Price(t-{i})'] = df['Price'].shift(i)\n",
        "\n",
        "    df.dropna(inplace=True)\n",
        "\n",
        "    return df\n",
        "\n",
        "lookback = 7\n",
        "shifted_df = prepare_dataframe_for_lstm(data, lookback)\n",
        "shifted_df"
      ]
    },
    {
      "cell_type": "code",
      "execution_count": 27,
      "id": "yWcD1tHjfAU-",
      "metadata": {
        "colab": {
          "base_uri": "https://localhost:8080/"
        },
        "id": "yWcD1tHjfAU-",
        "outputId": "e10f8cdf-7b44-4c1a-d0a2-9007aac1685c"
      },
      "outputs": [
        {
          "data": {
            "text/plain": [
              "array([[ -5.25,   8.25, -26.25, ...,  -4.5 ,  -6.5 , -18.  ],\n",
              "       [ -3.25,  -5.25,   8.25, ..., -26.25,  -4.5 ,  -6.5 ],\n",
              "       [ -9.  ,  -3.25,  -5.25, ..., -26.25, -26.25,  -4.5 ],\n",
              "       ...,\n",
              "       [ 16.5 ,  17.25,  14.  , ...,  14.75,   8.5 ,   7.  ],\n",
              "       [ 15.25,  16.5 ,  17.25, ...,  14.  ,  14.75,   8.5 ],\n",
              "       [ 10.25,  15.25,  16.5 , ...,  14.  ,  14.  ,  14.75]])"
            ]
          },
          "execution_count": 27,
          "metadata": {},
          "output_type": "execute_result"
        }
      ],
      "source": [
        "shifted_df_as_np = shifted_df.to_numpy()\n",
        "\n",
        "shifted_df_as_np"
      ]
    },
    {
      "cell_type": "code",
      "execution_count": 28,
      "id": "Pq2p3opGELA_",
      "metadata": {
        "colab": {
          "base_uri": "https://localhost:8080/"
        },
        "id": "Pq2p3opGELA_",
        "outputId": "5cb2ff07-5d8f-4117-eafd-6a3c5663c6ff"
      },
      "outputs": [
        {
          "data": {
            "text/plain": [
              "(514, 8)"
            ]
          },
          "execution_count": 28,
          "metadata": {},
          "output_type": "execute_result"
        }
      ],
      "source": [
        "shifted_df_as_np.shape"
      ]
    },
    {
      "cell_type": "code",
      "execution_count": 29,
      "id": "pXHkuFeafNUU",
      "metadata": {
        "colab": {
          "base_uri": "https://localhost:8080/"
        },
        "id": "pXHkuFeafNUU",
        "outputId": "a67d1f79-d279-4c96-e40f-0d9a5f9f7d7d"
      },
      "outputs": [
        {
          "data": {
            "text/plain": [
              "array([[-0.51489362, -0.05531915, -1.        , ..., -0.33587786,\n",
              "        -0.39694656, -0.7480916 ],\n",
              "       [-0.44680851, -0.51489362,  0.05343511, ..., -1.        ,\n",
              "        -0.33587786, -0.39694656],\n",
              "       [-0.64255319, -0.44680851, -0.35877863, ..., -1.        ,\n",
              "        -1.        , -0.33587786],\n",
              "       ...,\n",
              "       [ 0.22553191,  0.25106383,  0.22900763, ...,  0.2519084 ,\n",
              "         0.0610687 ,  0.01526718],\n",
              "       [ 0.18297872,  0.22553191,  0.32824427, ...,  0.22900763,\n",
              "         0.2519084 ,  0.0610687 ],\n",
              "       [ 0.01276596,  0.18297872,  0.30534351, ...,  0.22900763,\n",
              "         0.22900763,  0.2519084 ]])"
            ]
          },
          "execution_count": 29,
          "metadata": {},
          "output_type": "execute_result"
        }
      ],
      "source": [
        "from sklearn.preprocessing import MinMaxScaler\n",
        "\n",
        "scaler = MinMaxScaler(feature_range=(-1, 1))\n",
        "shifted_df_as_np = scaler.fit_transform(shifted_df_as_np)\n",
        "\n",
        "shifted_df_as_np"
      ]
    },
    {
      "cell_type": "code",
      "execution_count": 30,
      "id": "Iui9unuTfxOe",
      "metadata": {
        "colab": {
          "base_uri": "https://localhost:8080/"
        },
        "id": "Iui9unuTfxOe",
        "outputId": "642f093d-5071-43ef-fb9c-4c54061aec3e"
      },
      "outputs": [
        {
          "data": {
            "text/plain": [
              "((514, 7), (514,))"
            ]
          },
          "execution_count": 30,
          "metadata": {},
          "output_type": "execute_result"
        }
      ],
      "source": [
        "X = shifted_df_as_np[:, 1:]\n",
        "y = shifted_df_as_np[:, 0]\n",
        "\n",
        "X.shape, y.shape"
      ]
    },
    {
      "cell_type": "code",
      "execution_count": 31,
      "id": "XmbIqwj-E0cv",
      "metadata": {
        "colab": {
          "base_uri": "https://localhost:8080/"
        },
        "id": "XmbIqwj-E0cv",
        "outputId": "48ccc3a1-1b5c-49fd-ae2f-3f8b143fbb4c"
      },
      "outputs": [
        {
          "data": {
            "text/plain": [
              "array([[-0.7480916 , -0.39694656, -0.33587786, ..., -1.        ,\n",
              "        -1.        , -0.05531915],\n",
              "       [-0.39694656, -0.33587786, -1.        , ..., -1.        ,\n",
              "         0.05343511, -0.51489362],\n",
              "       [-0.33587786, -1.        , -1.        , ...,  0.05343511,\n",
              "        -0.35877863, -0.44680851],\n",
              "       ...,\n",
              "       [ 0.01526718,  0.0610687 ,  0.2519084 , ...,  0.22900763,\n",
              "         0.22900763,  0.25106383],\n",
              "       [ 0.0610687 ,  0.2519084 ,  0.22900763, ...,  0.22900763,\n",
              "         0.32824427,  0.22553191],\n",
              "       [ 0.2519084 ,  0.22900763,  0.22900763, ...,  0.32824427,\n",
              "         0.30534351,  0.18297872]])"
            ]
          },
          "execution_count": 31,
          "metadata": {},
          "output_type": "execute_result"
        }
      ],
      "source": [
        "# we did this because we have to go back to front\n",
        "X = dc(np.flip(X, axis=1))\n",
        "X"
      ]
    },
    {
      "cell_type": "code",
      "execution_count": 32,
      "id": "GCHslawXgE21",
      "metadata": {
        "colab": {
          "base_uri": "https://localhost:8080/"
        },
        "id": "GCHslawXgE21",
        "outputId": "a2e50719-a1fb-460e-9ce4-9dd873642765"
      },
      "outputs": [
        {
          "data": {
            "text/plain": [
              "488"
            ]
          },
          "execution_count": 32,
          "metadata": {},
          "output_type": "execute_result"
        }
      ],
      "source": [
        "split_index = int(len(X) * 0.95)\n",
        "\n",
        "split_index"
      ]
    },
    {
      "cell_type": "code",
      "execution_count": 33,
      "id": "hhGMh_nAgiST",
      "metadata": {
        "colab": {
          "base_uri": "https://localhost:8080/"
        },
        "id": "hhGMh_nAgiST",
        "outputId": "aeb231ef-e124-4821-f4ee-dbb2275c0f98"
      },
      "outputs": [
        {
          "data": {
            "text/plain": [
              "((488, 7), (26, 7), (488,), (26,))"
            ]
          },
          "execution_count": 33,
          "metadata": {},
          "output_type": "execute_result"
        }
      ],
      "source": [
        "X_train = X[:split_index]\n",
        "X_test = X[split_index:]\n",
        "\n",
        "y_train = y[:split_index]\n",
        "y_test = y[split_index:]\n",
        "\n",
        "X_train.shape, X_test.shape, y_train.shape, y_test.shape"
      ]
    },
    {
      "cell_type": "code",
      "execution_count": 34,
      "id": "Muqs9hKYhMUS",
      "metadata": {
        "colab": {
          "base_uri": "https://localhost:8080/"
        },
        "id": "Muqs9hKYhMUS",
        "outputId": "d35136a0-5855-4bfb-b66b-b8f7a1a8ea96"
      },
      "outputs": [
        {
          "data": {
            "text/plain": [
              "((488, 7, 1), (26, 7, 1), (488, 1), (26, 1))"
            ]
          },
          "execution_count": 34,
          "metadata": {},
          "output_type": "execute_result"
        }
      ],
      "source": [
        "X_train = X_train.reshape((-1, lookback, 1))\n",
        "X_test = X_test.reshape((-1, lookback, 1))\n",
        "\n",
        "y_train = y_train.reshape((-1, 1))\n",
        "y_test = y_test.reshape((-1, 1))\n",
        "\n",
        "X_train.shape, X_test.shape, y_train.shape, y_test.shape"
      ]
    },
    {
      "cell_type": "code",
      "execution_count": 35,
      "id": "i7-PBcrMhR7z",
      "metadata": {
        "colab": {
          "base_uri": "https://localhost:8080/"
        },
        "id": "i7-PBcrMhR7z",
        "outputId": "b01a297a-75d6-4573-e450-a3545360112e"
      },
      "outputs": [
        {
          "data": {
            "text/plain": [
              "(torch.Size([488, 7, 1]),\n",
              " torch.Size([26, 7, 1]),\n",
              " torch.Size([488, 1]),\n",
              " torch.Size([26, 1]))"
            ]
          },
          "execution_count": 35,
          "metadata": {},
          "output_type": "execute_result"
        }
      ],
      "source": [
        "X_train = torch.tensor(X_train).float()\n",
        "y_train = torch.tensor(y_train).float()\n",
        "X_test = torch.tensor(X_test).float()\n",
        "y_test = torch.tensor(y_test).float()\n",
        "\n",
        "X_train.shape, X_test.shape, y_train.shape, y_test.shape"
      ]
    },
    {
      "cell_type": "code",
      "execution_count": 36,
      "id": "DWutCAGKhdqU",
      "metadata": {
        "id": "DWutCAGKhdqU"
      },
      "outputs": [],
      "source": [
        "from torch.utils.data import Dataset\n",
        "\n",
        "class TimeSeriesDataset(Dataset):\n",
        "    def __init__(self, X, y):\n",
        "        self.X = X\n",
        "        self.y = y\n",
        "\n",
        "    def __len__(self):\n",
        "        return len(self.X)\n",
        "\n",
        "    def __getitem__(self, i):\n",
        "        return self.X[i], self.y[i]\n",
        "\n",
        "train_dataset = TimeSeriesDataset(X_train, y_train)\n",
        "test_dataset = TimeSeriesDataset(X_test, y_test)"
      ]
    },
    {
      "cell_type": "code",
      "execution_count": 37,
      "id": "12OWUTa5ijoq",
      "metadata": {
        "colab": {
          "base_uri": "https://localhost:8080/"
        },
        "id": "12OWUTa5ijoq",
        "outputId": "0928d3c2-d181-4035-cc57-a2ac6ce38075"
      },
      "outputs": [
        {
          "data": {
            "text/plain": [
              "<__main__.TimeSeriesDataset at 0x70829ee16ce0>"
            ]
          },
          "execution_count": 37,
          "metadata": {},
          "output_type": "execute_result"
        }
      ],
      "source": [
        "train_dataset"
      ]
    },
    {
      "cell_type": "code",
      "execution_count": 42,
      "id": "XYsUmPl3ik46",
      "metadata": {
        "id": "XYsUmPl3ik46"
      },
      "outputs": [],
      "source": [
        "from torch.utils.data import DataLoader\n",
        "\n",
        "batch_size = 16\n",
        "\n",
        "train_loader = DataLoader(train_dataset, batch_size=batch_size, shuffle=True)\n",
        "test_loader = DataLoader(test_dataset, batch_size=batch_size, shuffle=False)"
      ]
    },
    {
      "cell_type": "code",
      "execution_count": 39,
      "id": "TJTnbgBDjOSK",
      "metadata": {
        "colab": {
          "base_uri": "https://localhost:8080/"
        },
        "id": "TJTnbgBDjOSK",
        "outputId": "51226616-d4de-4a22-f4d9-576fd3e8bfba"
      },
      "outputs": [
        {
          "name": "stdout",
          "output_type": "stream",
          "text": [
            "torch.Size([16, 7, 1]) torch.Size([16, 1])\n"
          ]
        }
      ],
      "source": [
        "for _, batch in enumerate(train_loader):\n",
        "    x_batch, y_batch = batch[0].to(device), batch[1].to(device)\n",
        "    print(x_batch.shape, y_batch.shape)\n",
        "    break"
      ]
    },
    {
      "cell_type": "code",
      "execution_count": 38,
      "id": "njdkq_kmjib5",
      "metadata": {
        "colab": {
          "base_uri": "https://localhost:8080/"
        },
        "id": "njdkq_kmjib5",
        "outputId": "db355c8d-cc21-43f5-cdfa-2156444b4531"
      },
      "outputs": [
        {
          "data": {
            "text/plain": [
              "LSTM(\n",
              "  (lstm): LSTM(1, 4, batch_first=True)\n",
              "  (fc): Linear(in_features=4, out_features=1, bias=True)\n",
              ")"
            ]
          },
          "execution_count": 38,
          "metadata": {},
          "output_type": "execute_result"
        }
      ],
      "source": [
        "class LSTM(nn.Module):\n",
        "    def __init__(self, input_size, hidden_size, num_stacked_layers):\n",
        "        super().__init__()\n",
        "        self.hidden_size = hidden_size\n",
        "        self.num_stacked_layers = num_stacked_layers\n",
        "\n",
        "        self.lstm = nn.LSTM(input_size, hidden_size, num_stacked_layers,\n",
        "                            batch_first=True)\n",
        "\n",
        "        self.fc = nn.Linear(hidden_size, 1)\n",
        "\n",
        "    def forward(self, x):\n",
        "        batch_size = x.size(0)\n",
        "        h0 = torch.zeros(self.num_stacked_layers, batch_size, self.hidden_size).to(device)\n",
        "        c0 = torch.zeros(self.num_stacked_layers, batch_size, self.hidden_size).to(device)\n",
        "\n",
        "        out, _ = self.lstm(x, (h0, c0))\n",
        "        out = self.fc(out[:, -1, :])\n",
        "        return out\n",
        "\n",
        "model = LSTM(1, 4, 1)\n",
        "model.to(device)\n",
        "model"
      ]
    },
    {
      "cell_type": "code",
      "execution_count": null,
      "id": "iue5WvTxmVKB",
      "metadata": {
        "id": "iue5WvTxmVKB"
      },
      "outputs": [],
      "source": [
        "def train_one_epoch():\n",
        "    model.train(True)\n",
        "    print(f'Epoch: {epoch + 1}')\n",
        "    running_loss = 0.0\n",
        "\n",
        "    for batch_index, batch in enumerate(train_loader):\n",
        "        x_batch, y_batch = batch[0].to(device), batch[1].to(device)\n",
        "\n",
        "        output = model(x_batch)\n",
        "        loss = loss_function(output, y_batch)\n",
        "        running_loss += loss.item()\n",
        "\n",
        "        optimizer.zero_grad()\n",
        "        loss.backward()\n",
        "        optimizer.step()\n",
        "\n",
        "        if batch_index % 100 == 99:  # print every 100 batches\n",
        "            avg_loss_across_batches = running_loss / 100\n",
        "            print('Batch {0}, Loss: {1:.3f}'.format(batch_index+1,\n",
        "                                                    avg_loss_across_batches))\n",
        "            running_loss = 0.0\n",
        "    print()"
      ]
    },
    {
      "cell_type": "code",
      "execution_count": null,
      "id": "gRmNuV3cmy-t",
      "metadata": {
        "id": "gRmNuV3cmy-t"
      },
      "outputs": [],
      "source": [
        "def validate_one_epoch():\n",
        "    model.train(False)\n",
        "    running_loss = 0.0\n",
        "\n",
        "    for batch_index, batch in enumerate(test_loader):\n",
        "        x_batch, y_batch = batch[0].to(device), batch[1].to(device)\n",
        "\n",
        "        with torch.no_grad():\n",
        "            output = model(x_batch)\n",
        "            loss = loss_function(output, y_batch)\n",
        "            running_loss += loss.item()\n",
        "\n",
        "    avg_loss_across_batches = running_loss / len(test_loader)\n",
        "\n",
        "    print('Val Loss: {0:.3f}'.format(avg_loss_across_batches))\n",
        "    print('***************************************************')\n",
        "    print()"
      ]
    },
    {
      "cell_type": "code",
      "execution_count": 43,
      "id": "1jgb1aJ3lxlQ",
      "metadata": {
        "colab": {
          "base_uri": "https://localhost:8080/"
        },
        "id": "1jgb1aJ3lxlQ",
        "outputId": "2a25db36-4872-44e4-feca-4d26bad49f96"
      },
      "outputs": [
        {
          "name": "stdout",
          "output_type": "stream",
          "text": [
            "Epoch: 1\n",
            "\n",
            "Val Loss: 0.211\n",
            "***************************************************\n",
            "\n",
            "Epoch: 2\n",
            "\n",
            "Val Loss: 0.203\n",
            "***************************************************\n",
            "\n",
            "Epoch: 3\n",
            "\n",
            "Val Loss: 0.192\n",
            "***************************************************\n",
            "\n",
            "Epoch: 4\n",
            "\n",
            "Val Loss: 0.187\n",
            "***************************************************\n",
            "\n",
            "Epoch: 5\n",
            "\n",
            "Val Loss: 0.178\n",
            "***************************************************\n",
            "\n",
            "Epoch: 6\n",
            "\n",
            "Val Loss: 0.171\n",
            "***************************************************\n",
            "\n",
            "Epoch: 7\n",
            "\n",
            "Val Loss: 0.162\n",
            "***************************************************\n",
            "\n",
            "Epoch: 8\n",
            "\n",
            "Val Loss: 0.153\n",
            "***************************************************\n",
            "\n",
            "Epoch: 9\n",
            "\n",
            "Val Loss: 0.140\n",
            "***************************************************\n",
            "\n",
            "Epoch: 10\n",
            "\n",
            "Val Loss: 0.124\n",
            "***************************************************\n",
            "\n",
            "Epoch: 11\n",
            "\n",
            "Val Loss: 0.111\n",
            "***************************************************\n",
            "\n",
            "Epoch: 12\n",
            "\n",
            "Val Loss: 0.098\n",
            "***************************************************\n",
            "\n",
            "Epoch: 13\n",
            "\n",
            "Val Loss: 0.080\n",
            "***************************************************\n",
            "\n",
            "Epoch: 14\n",
            "\n",
            "Val Loss: 0.063\n",
            "***************************************************\n",
            "\n",
            "Epoch: 15\n",
            "\n",
            "Val Loss: 0.055\n",
            "***************************************************\n",
            "\n",
            "Epoch: 16\n",
            "\n",
            "Val Loss: 0.050\n",
            "***************************************************\n",
            "\n",
            "Epoch: 17\n",
            "\n",
            "Val Loss: 0.044\n",
            "***************************************************\n",
            "\n",
            "Epoch: 18\n",
            "\n",
            "Val Loss: 0.038\n",
            "***************************************************\n",
            "\n",
            "Epoch: 19\n",
            "\n",
            "Val Loss: 0.038\n",
            "***************************************************\n",
            "\n",
            "Epoch: 20\n",
            "\n",
            "Val Loss: 0.032\n",
            "***************************************************\n",
            "\n",
            "Epoch: 21\n",
            "\n",
            "Val Loss: 0.028\n",
            "***************************************************\n",
            "\n",
            "Epoch: 22\n",
            "\n",
            "Val Loss: 0.027\n",
            "***************************************************\n",
            "\n",
            "Epoch: 23\n",
            "\n",
            "Val Loss: 0.027\n",
            "***************************************************\n",
            "\n",
            "Epoch: 24\n",
            "\n",
            "Val Loss: 0.027\n",
            "***************************************************\n",
            "\n",
            "Epoch: 25\n",
            "\n",
            "Val Loss: 0.024\n",
            "***************************************************\n",
            "\n",
            "Epoch: 26\n",
            "\n",
            "Val Loss: 0.026\n",
            "***************************************************\n",
            "\n",
            "Epoch: 27\n",
            "\n",
            "Val Loss: 0.023\n",
            "***************************************************\n",
            "\n",
            "Epoch: 28\n",
            "\n",
            "Val Loss: 0.021\n",
            "***************************************************\n",
            "\n",
            "Epoch: 29\n",
            "\n",
            "Val Loss: 0.021\n",
            "***************************************************\n",
            "\n",
            "Epoch: 30\n",
            "\n",
            "Val Loss: 0.021\n",
            "***************************************************\n",
            "\n",
            "Epoch: 31\n",
            "\n",
            "Val Loss: 0.018\n",
            "***************************************************\n",
            "\n",
            "Epoch: 32\n",
            "\n",
            "Val Loss: 0.021\n",
            "***************************************************\n",
            "\n",
            "Epoch: 33\n",
            "\n",
            "Val Loss: 0.019\n",
            "***************************************************\n",
            "\n",
            "Epoch: 34\n",
            "\n",
            "Val Loss: 0.020\n",
            "***************************************************\n",
            "\n",
            "Epoch: 35\n",
            "\n",
            "Val Loss: 0.020\n",
            "***************************************************\n",
            "\n",
            "Epoch: 36\n",
            "\n",
            "Val Loss: 0.018\n",
            "***************************************************\n",
            "\n",
            "Epoch: 37\n",
            "\n",
            "Val Loss: 0.017\n",
            "***************************************************\n",
            "\n",
            "Epoch: 38\n",
            "\n",
            "Val Loss: 0.018\n",
            "***************************************************\n",
            "\n",
            "Epoch: 39\n",
            "\n",
            "Val Loss: 0.017\n",
            "***************************************************\n",
            "\n",
            "Epoch: 40\n",
            "\n",
            "Val Loss: 0.016\n",
            "***************************************************\n",
            "\n",
            "Epoch: 41\n",
            "\n",
            "Val Loss: 0.016\n",
            "***************************************************\n",
            "\n",
            "Epoch: 42\n",
            "\n",
            "Val Loss: 0.015\n",
            "***************************************************\n",
            "\n",
            "Epoch: 43\n",
            "\n",
            "Val Loss: 0.019\n",
            "***************************************************\n",
            "\n",
            "Epoch: 44\n",
            "\n",
            "Val Loss: 0.016\n",
            "***************************************************\n",
            "\n",
            "Epoch: 45\n",
            "\n",
            "Val Loss: 0.014\n",
            "***************************************************\n",
            "\n",
            "Epoch: 46\n",
            "\n",
            "Val Loss: 0.017\n",
            "***************************************************\n",
            "\n",
            "Epoch: 47\n",
            "\n",
            "Val Loss: 0.015\n",
            "***************************************************\n",
            "\n",
            "Epoch: 48\n",
            "\n",
            "Val Loss: 0.015\n",
            "***************************************************\n",
            "\n",
            "Epoch: 49\n",
            "\n",
            "Val Loss: 0.013\n",
            "***************************************************\n",
            "\n",
            "Epoch: 50\n",
            "\n",
            "Val Loss: 0.013\n",
            "***************************************************\n",
            "\n"
          ]
        }
      ],
      "source": [
        "learning_rate = 0.001\n",
        "num_epochs = 50\n",
        "loss_function = nn.MSELoss()\n",
        "optimizer = torch.optim.Adam(model.parameters(), lr=learning_rate)\n",
        "\n",
        "for epoch in range(num_epochs):\n",
        "    train_one_epoch()\n",
        "    validate_one_epoch()"
      ]
    },
    {
      "cell_type": "code",
      "execution_count": 50,
      "id": "-Xon2PHWno7t",
      "metadata": {
        "colab": {
          "base_uri": "https://localhost:8080/",
          "height": 449
        },
        "id": "-Xon2PHWno7t",
        "outputId": "862b1d87-3e42-4fe1-8618-3cf0720e0da5"
      },
      "outputs": [
        {
          "data": {
            "image/png": "[encoded data removed]",
            "text/plain": [
              "<Figure size 640x480 with 1 Axes>"
            ]
          },
          "metadata": {},
          "output_type": "display_data"
        }
      ],
      "source": [
        "with torch.no_grad():\n",
        "    predicted = model(X_train.to(device)).to('cpu').numpy()\n",
        "\n",
        "plt.plot(y_train, label='Actual Close')\n",
        "plt.plot(predicted, label='Predicted Close')\n",
        "plt.xlabel('Day')\n",
        "plt.ylabel('Close')\n",
        "plt.legend()\n",
        "plt.show()\n"
      ]
    },
    {
      "cell_type": "code",
      "execution_count": 51,
      "id": "d3SDgEvPpOcD",
      "metadata": {
        "colab": {
          "base_uri": "https://localhost:8080/"
        },
        "id": "d3SDgEvPpOcD",
        "outputId": "e9b8491e-b15e-4aa5-ae97-6619bb4a3be9"
      },
      "outputs": [
        {
          "data": {
            "text/plain": [
              "array([-1.58754227e+00, -3.35908654e+00, -2.59813028e+00, -5.87410622e+00,\n",
              "       -7.76372415e+00, -8.46350268e+00, -8.63279414e+00, -9.27516286e+00,\n",
              "       -6.74933058e+00,  1.24122122e+01,  1.51928291e+01,  2.44967192e+01,\n",
              "        2.48123252e+01,  2.41918951e+01,  3.27724975e+00, -4.69561432e+00,\n",
              "       -5.71232431e+00, -5.14853538e+00,  2.35693700e+00,  4.92283219e+00,\n",
              "        5.44849557e+00,  1.15707650e+01,  8.55110399e+00,  1.76095619e+01,\n",
              "        2.11425889e+00, -1.26469631e+00, -1.80051046e+00, -1.48598647e+00,\n",
              "       -2.51332347e+00, -1.10267076e+01, -6.24735494e+00, -9.00563140e+00,\n",
              "       -9.68689957e+00, -9.87573792e+00, -9.90398147e+00, -1.01300472e+01,\n",
              "       -5.45126890e+00, -3.30704932e+00, -1.84439380e+00, -1.81053866e+00,\n",
              "       -1.95126266e+00, -2.08797275e+00, -1.04907640e+00, -6.93896830e-01,\n",
              "       -2.66379815e+00, -8.15593943e-01, -3.19123089e-01, -1.98663853e-01,\n",
              "       -2.10804500e-01, -5.66008583e-01, -2.09768850e-01,  3.92267324e-01,\n",
              "        4.17276986e-01, -9.59551036e-02, -2.78379962e-01, -3.23067836e-01,\n",
              "       -8.08931024e+00, -1.25418372e+01, -4.16191787e+00, -1.13716350e+00,\n",
              "       -1.45389885e+00, -1.74911232e+00, -1.96847387e+00, -1.02282448e+00,\n",
              "       -5.73596049e-01,  3.96707572e-01, -1.11569938e+00, -2.29724482e+00,\n",
              "       -2.66081289e+00, -2.71540641e+00, -2.83267990e+00, -3.45817971e+00,\n",
              "       -3.49614418e+00, -3.79068530e+00, -3.41667932e+00, -3.26904370e+00,\n",
              "       -3.22033492e+00, -2.74615810e+00, -3.36758884e+00, -3.29053846e+00,\n",
              "       -2.63360762e+00, -2.40483942e+00, -2.34907807e+00, -2.35271466e+00,\n",
              "       -1.25039683e+00,  3.11148545e+00,  2.84975244e+00, -3.46210178e-01,\n",
              "       -5.94036327e+00, -7.77447109e+00, -8.18483335e+00, -4.40824133e+00,\n",
              "       -4.59196009e+00, -3.49283413e+00, -4.07631879e+00, -3.59998313e+00,\n",
              "       -3.45528287e+00, -3.42574191e+00, -3.56606320e+00, -4.23420147e+00,\n",
              "       -2.76796364e+00, -4.96080008e+00, -3.50128391e+00, -2.94691124e+00,\n",
              "       -2.77373719e+00, -9.91785645e-01, -5.99822577e-01, -5.50345153e-01,\n",
              "        1.97840139e-01, -7.25719191e-01, -1.07025687e+00, -1.16997686e+00,\n",
              "       -1.98921233e-01, -2.40206689e+00, -1.58691895e+00, -1.24427398e+00,\n",
              "       -1.44562329e+00, -1.52339504e+00, -1.54917684e+00, -2.64523350e+00,\n",
              "       -2.55090625e+00, -2.05862623e-01, -4.35253863e+00, -4.35820275e+00,\n",
              "       -4.25896601e+00, -4.16253944e+00, -3.80189535e+00, -2.41836765e+00,\n",
              "       -2.57704698e+00, -5.08519006e+00, -5.24559402e+00, -5.23412746e+00,\n",
              "       -5.18263739e+00, -4.69480541e+00, -4.20753284e+00, -4.35075973e+00,\n",
              "       -4.28424706e+00, -8.08873244e+00, -9.40576848e+00, -9.78174333e+00,\n",
              "       -6.25051879e+00, -4.86886979e+00, -4.10638063e+00,  7.87198145e-01,\n",
              "       -1.31069560e+00, -2.20951316e+00, -2.56781281e+00, -2.65380059e+00,\n",
              "       -2.34088304e+00, -2.21590564e+00, -2.31369440e+00, -9.29365668e-01,\n",
              "       -4.79037676e-01, -3.90470836e-01, -1.05804094e+00, -1.46314178e+00,\n",
              "       -1.58291993e+00, -2.07056193e+00, -2.36281377e+00, -2.43133646e+00,\n",
              "       -2.42689096e+00, -2.87778799e+00, -3.63301097e+00, -2.15464038e+00,\n",
              "       -1.61956423e+00, -9.92739879e-01, -8.33780400e-01, -8.33637703e-01,\n",
              "       -1.19069510e+00, -2.11506334e+00, -2.24887834e+00, -3.18150376e+00,\n",
              "       -3.76815227e+00, -3.92009419e+00, -3.92490738e+00, -4.34806161e+00,\n",
              "       -3.72573617e+00, -3.33532263e+00, -4.12412149e+00, -4.71079976e+00,\n",
              "       -4.90070791e+00, -4.93916263e+00, -5.65624517e+00, -4.87123874e+00,\n",
              "       -4.26683011e+00, -4.81007852e+00, -4.87675053e+00, -4.89997429e+00,\n",
              "       -4.90429723e+00, -3.69911481e+00, -3.58065684e+00, -3.87748812e+00,\n",
              "       -4.16113172e+00, -3.81052197e+00, -3.68199815e+00, -3.64321952e+00,\n",
              "       -3.78467888e+00, -6.95032184e+00, -5.84452149e+00, -4.46202331e+00,\n",
              "       -4.24732962e+00, -4.20056869e+00, -4.21387018e+00, -4.97739148e+00,\n",
              "       -5.12206022e+00, -5.72008950e+00, -6.04990748e+00, -5.71410497e+00,\n",
              "       -5.57106104e+00, -5.51545289e+00, -5.78861569e+00, -5.88829015e+00,\n",
              "       -5.92202973e+00, -6.07048214e+00, -5.25191822e+00, -4.95511845e+00,\n",
              "       -4.86823597e+00, -4.71260843e+00, -5.11437208e+00, -5.41212783e+00,\n",
              "       -5.22242104e+00, -5.28467555e+00, -5.30348007e+00, -5.30755964e+00,\n",
              "       -5.16082135e+00, -4.96375733e+00, -4.15131363e+00, -3.87487580e+00,\n",
              "       -3.80934887e+00, -3.81455776e+00, -3.83427012e+00, -3.69716958e+00,\n",
              "       -3.49984118e+00, -4.04132294e+00, -4.68209836e+00, -4.89237019e+00,\n",
              "       -4.93804031e+00, -4.93093521e+00, -5.06042027e+00, -5.38863093e+00,\n",
              "       -5.49965289e+00, -5.52811880e+00, -5.52727838e+00, -5.51996493e+00,\n",
              "       -5.51375103e+00, -5.07375327e+00, -5.06672346e+00, -5.07602242e+00,\n",
              "       -4.94086974e+00, -4.45211855e+00, -4.28756674e+00, -4.24814028e+00,\n",
              "       -4.09820136e+00, -4.20810451e+00, -4.40560625e+00, -4.47532567e+00,\n",
              "       -4.49178225e+00, -4.49150999e+00, -4.48748032e+00, -4.92644769e+00,\n",
              "       -5.07892188e+00, -4.97314033e+00, -4.92325407e+00, -4.60505497e+00,\n",
              "       -4.49367934e+00, -4.46450957e+00, -4.76270829e+00, -4.57664859e+00,\n",
              "       -4.05436617e+00, -4.17647912e+00, -4.08367426e+00, -4.05919074e+00,\n",
              "       -4.05725338e+00, -4.06225129e+00, -3.14412058e+00, -3.13886267e+00,\n",
              "       -3.01430811e+00, -2.52350663e+00, -2.37350468e+00, -2.34873664e+00,\n",
              "       -2.36089567e+00, -2.37255395e+00, -2.38318796e+00, -2.38807206e+00,\n",
              "       -2.54453652e+00, -2.59684075e+00, -2.60859270e+00, -2.60701165e+00,\n",
              "       -2.60304414e+00, -2.75586326e+00, -2.65071991e+00, -2.61029719e+00,\n",
              "       -2.59693968e+00, -2.59450420e+00, -2.43887578e+00, -2.54440346e+00,\n",
              "       -2.74235780e+00, -2.65222654e+00, -2.92509169e+00, -3.01535514e+00,\n",
              "       -3.03572233e+00, -2.87734152e+00, -2.81871746e+00, -2.80234230e+00,\n",
              "       -2.80036730e+00, -2.80417547e+00, -2.80710996e+00, -2.80872340e+00,\n",
              "       -2.49612014e+00, -2.39127793e+00, -2.52416846e+00, -2.89032784e+00,\n",
              "       -3.47473084e+00, -3.65983018e+00, -3.69455025e+00, -3.68202091e+00,\n",
              "       -3.66432645e+00, -3.65279336e+00, -3.03127157e+00, -2.66520499e+00,\n",
              "       -2.56292258e+00, -2.55522306e+00, -3.94462674e+00, -4.72174543e+00,\n",
              "       -5.09497576e+00, -4.87752092e+00, -5.20085362e+00, -5.29868615e+00,\n",
              "       -5.31757296e+00, -4.87949767e+00, -5.16118903e+00, -4.82882527e+00,\n",
              "       -3.95744235e+00, -3.96861651e+00, -4.00383909e+00, -4.03617796e+00,\n",
              "       -3.90345289e+00, -3.71098057e+00, -3.64809836e+00, -3.78444164e+00,\n",
              "       -3.68813676e+00, -3.65498197e+00, -3.64594565e+00, -3.49172757e+00,\n",
              "       -3.59301722e+00, -3.63361065e+00, -3.34190859e+00, -2.30054349e+00,\n",
              "       -1.95906811e+00, -1.88889258e+00, -1.74656390e+00, -2.50979806e+00,\n",
              "       -2.62532943e+00, -2.48629766e+00, -2.26053224e+00, -2.18096671e+00,\n",
              "       -2.16178925e+00, -1.84609742e+00, -1.59115084e+00, -1.04032897e+00,\n",
              "       -1.51877970e+00, -1.38842533e+00, -1.34547171e+00, -1.33407169e+00,\n",
              "       -1.01173174e+00, -9.09304012e-01, -4.03999060e-01, -4.20780431e-01,\n",
              "       -4.53473859e-01, -4.79839582e-01, -4.94498879e-01, -4.99415368e-01,\n",
              "       -5.01061201e-01, -9.80889879e-01, -1.29515824e+00, -1.69414324e+00,\n",
              "       -1.79952997e+00, -1.80423197e+00, -1.62626312e+00, -1.07629743e+00,\n",
              "       -1.38168529e+00, -1.66434490e+00, -1.91863139e+00, -1.99066811e+00,\n",
              "       -1.99709386e+00, -1.66854090e+00, -2.18344859e+00, -1.89219125e+00,\n",
              "       -1.62382413e+00, -1.37876306e+00, -1.31171199e+00, -1.30769021e+00,\n",
              "       -1.95096851e+00, -1.53756146e+00, -1.37708046e+00, -1.48568007e+00,\n",
              "       -1.04971810e+00, -9.09798637e-01, -8.82647641e-01, -1.37258244e+00,\n",
              "       -1.85530883e+00, -1.03990788e+00, -1.22736216e+00, -1.46153972e+00,\n",
              "       -1.54265654e+00, -1.56126321e+00, -2.19163661e+00, -2.39601058e+00,\n",
              "       -2.58912635e+00, -2.94249375e+00, -3.50244649e+00, -3.66960975e+00,\n",
              "       -3.69455025e+00, -4.13546723e+00, -3.97216468e+00, -3.74362760e+00,\n",
              "       -2.88624652e+00, -2.12819849e+00, -1.90814008e+00, -1.88431577e+00,\n",
              "       -3.00416085e+00, -2.93517154e+00, -3.79712418e+00, -4.36810576e+00,\n",
              "       -2.99268466e+00, -2.47975548e+00, -2.33026129e+00, -2.00688132e+00,\n",
              "       -1.76661067e+00, -2.19162260e+00, -2.20013716e+00, -3.12313971e+00,\n",
              "       -3.42909486e+00, -3.49755802e+00, -1.75413911e+00,  1.59021236e-01,\n",
              "        2.17805497e-01,  6.08358227e-01,  3.25217128e-01,  1.83409333e-01,\n",
              "        1.24856189e-01, -4.76831645e-02, -9.32972580e-02,  2.24978879e-01,\n",
              "       -4.73834917e-01, -1.02668782e+00, -1.18056972e+00, -1.19149876e+00,\n",
              "       -1.16753612e+00, -1.46404874e+00, -1.39391524e+00, -1.19943202e+00,\n",
              "       -4.85427536e-01, -2.62233287e-01, -2.25644138e-01, -1.20471095e+00,\n",
              "       -2.01120163e+00, -2.39964192e+00, -1.84355425e+00, -2.24382003e+00,\n",
              "       -2.37452107e+00, -2.40486656e+00, -1.61291611e+00, -8.61617744e-01,\n",
              "       -6.45859510e-01,  3.55822623e-01, -2.21254751e-02, -2.04095103e-01,\n",
              "       -2.81001039e-01, -6.23628505e-01,  8.50602910e-02,  4.89417009e-01,\n",
              "        1.25433902e+00,  1.28664638e+00,  1.24129492e+00,  1.19511004e+00,\n",
              "       -9.16238397e-01, -9.52389825e-01, -5.46685800e-01,  1.28772318e+00,\n",
              "        1.85827929e+00,  1.94412175e+00,  1.88976198e+00,  1.65566496e+00,\n",
              "        4.22376145e+00,  2.64922560e+00,  3.38164285e+00,  5.57129224e+00])"
            ]
          },
          "execution_count": 51,
          "metadata": {},
          "output_type": "execute_result"
        }
      ],
      "source": [
        "train_predictions = predicted.flatten()\n",
        "\n",
        "dummies = np.zeros((X_train.shape[0], lookback+1))\n",
        "dummies[:, 0] = train_predictions\n",
        "dummies = scaler.inverse_transform(dummies)\n",
        "\n",
        "train_predictions = dc(dummies[:, 0])\n",
        "train_predictions"
      ]
    },
    {
      "cell_type": "code",
      "execution_count": 52,
      "id": "PHnvejOdrL7Q",
      "metadata": {
        "colab": {
          "base_uri": "https://localhost:8080/"
        },
        "id": "PHnvejOdrL7Q",
        "outputId": "952cb861-3f21-42d2-f1b2-9e489c9cdcd7"
      },
      "outputs": [
        {
          "data": {
            "text/plain": [
              "array([-5.24999925e+00, -3.25000019e+00, -9.00000055e+00, -1.00000001e+01,\n",
              "       -1.00000001e+01, -1.00000001e+01, -1.15000003e+01, -6.25000053e+00,\n",
              "        2.12499997e+01,  1.82500002e+01,  3.92500000e+01,  3.92500000e+01,\n",
              "        3.92500000e+01, -4.24999972e+00, -5.49999957e+00, -4.00000027e+00,\n",
              "       -4.00000027e+00,  6.24999995e+00,  6.24999995e+00,  6.24999995e+00,\n",
              "        1.62499999e+01,  9.50000001e+00,  2.72500004e+01, -3.74999995e+00,\n",
              "       -5.00000164e-01, -5.00000164e-01, -5.00000164e-01, -2.75000042e+00,\n",
              "       -1.95000000e+01, -3.74999995e+00, -1.24999998e+01, -1.19999991e+01,\n",
              "       -1.19999991e+01, -1.19999991e+01, -1.24999998e+01, -3.49999963e+00,\n",
              "       -2.99999987e+00, -1.75000001e+00, -2.24999978e+00, -2.24999978e+00,\n",
              "       -2.24999978e+00, -5.00000164e-01, -5.00000164e-01, -3.74999995e+00,\n",
              "        2.49999922e-01, -3.98606061e-07, -3.98606061e-07, -3.98606061e-07,\n",
              "       -5.00000164e-01,  2.49999922e-01,  1.00000001e+00,  7.49999687e-01,\n",
              "       -3.98606061e-07, -3.98606061e-07, -3.98606061e-07, -1.40000000e+01,\n",
              "       -1.85000005e+01,  5.00000242e-01, -2.49999844e-01, -2.24999978e+00,\n",
              "       -2.24999978e+00, -2.24999978e+00, -5.00000164e-01, -2.49999844e-01,\n",
              "        1.00000001e+00, -1.75000001e+00, -2.75000042e+00, -2.75000042e+00,\n",
              "       -2.75000042e+00, -2.99999987e+00, -4.00000027e+00, -3.74999995e+00,\n",
              "       -4.24999972e+00, -3.49999963e+00, -3.49999963e+00, -3.49999963e+00,\n",
              "       -2.75000042e+00, -4.00000027e+00, -3.49999963e+00, -2.50000010e+00,\n",
              "       -2.50000010e+00, -2.50000010e+00, -2.50000010e+00, -7.49999609e-01,\n",
              "        5.25000020e+00,  2.99999994e+00, -1.49999969e+00, -9.25000087e+00,\n",
              "       -9.25000087e+00, -9.25000087e+00, -2.75000042e+00, -5.49999957e+00,\n",
              "       -3.49999963e+00, -5.00000068e+00, -3.74999995e+00, -3.74999995e+00,\n",
              "       -3.74999995e+00, -4.00000027e+00, -5.00000068e+00, -2.24999978e+00,\n",
              "       -6.74999942e+00, -2.99999987e+00, -2.99999987e+00, -2.99999987e+00,\n",
              "       -2.49999844e-01, -5.00000164e-01, -5.00000164e-01,  7.49999687e-01,\n",
              "       -9.99999929e-01, -9.99999929e-01, -9.99999929e-01,  5.00000242e-01,\n",
              "       -3.49999963e+00, -9.99999929e-01, -9.99999929e-01, -1.49999969e+00,\n",
              "       -1.49999969e+00, -1.49999969e+00, -3.25000019e+00, -2.50000010e+00,\n",
              "        1.00000001e+00, -6.99999974e+00, -4.50000004e+00, -4.50000004e+00,\n",
              "       -4.50000004e+00, -4.00000027e+00, -2.00000034e+00, -2.99999987e+00,\n",
              "       -6.99999974e+00, -5.74999989e+00, -5.74999989e+00, -5.74999989e+00,\n",
              "       -5.00000068e+00, -4.50000004e+00, -5.00000068e+00, -4.75000036e+00,\n",
              "       -1.17500006e+01, -1.17500006e+01, -1.17500006e+01, -5.00000068e+00,\n",
              "       -5.00000068e+00, -4.50000004e+00,  2.75000006e+00, -2.75000042e+00,\n",
              "       -2.75000042e+00, -2.75000042e+00, -2.75000042e+00, -2.24999978e+00,\n",
              "       -2.24999978e+00, -2.50000010e+00, -2.49999844e-01, -2.49999844e-01,\n",
              "       -2.49999844e-01, -1.25000025e+00, -1.49999969e+00, -1.49999969e+00,\n",
              "       -2.24999978e+00, -2.50000010e+00, -2.50000010e+00, -2.50000010e+00,\n",
              "       -3.25000019e+00, -4.24999972e+00, -1.49999969e+00, -1.49999969e+00,\n",
              "       -7.49999609e-01, -7.49999609e-01, -7.49999609e-01, -1.25000025e+00,\n",
              "       -2.50000010e+00, -2.24999978e+00, -3.74999995e+00, -4.24999972e+00,\n",
              "       -4.24999972e+00, -4.24999972e+00, -5.00000068e+00, -3.74999995e+00,\n",
              "       -3.49999963e+00, -5.00000068e+00, -5.49999957e+00, -5.49999957e+00,\n",
              "       -5.49999957e+00, -6.74999942e+00, -5.00000068e+00, -4.50000004e+00,\n",
              "       -5.74999989e+00, -5.49999957e+00, -5.49999957e+00, -5.49999957e+00,\n",
              "       -3.49999963e+00, -4.00000027e+00, -4.50000004e+00, -4.75000036e+00,\n",
              "       -4.00000027e+00, -4.00000027e+00, -4.00000027e+00, -4.24999972e+00,\n",
              "       -9.74999976e+00, -5.74999989e+00, -4.24999972e+00, -4.75000036e+00,\n",
              "       -4.75000036e+00, -4.75000036e+00, -6.00000021e+00, -5.74999989e+00,\n",
              "       -6.74999942e+00, -6.99999974e+00, -6.25000053e+00, -6.25000053e+00,\n",
              "       -6.25000053e+00, -6.74999942e+00, -6.74999942e+00, -6.74999942e+00,\n",
              "       -6.99999974e+00, -5.49999957e+00, -5.49999957e+00, -5.49999957e+00,\n",
              "       -5.24999925e+00, -6.00000021e+00, -6.25000053e+00, -5.74999989e+00,\n",
              "       -6.00000021e+00, -6.00000021e+00, -6.00000021e+00, -5.74999989e+00,\n",
              "       -5.49999957e+00, -4.24999972e+00, -4.24999972e+00, -4.24999972e+00,\n",
              "       -4.24999972e+00, -4.24999972e+00, -4.00000027e+00, -3.74999995e+00,\n",
              "       -4.75000036e+00, -5.49999957e+00, -5.49999957e+00, -5.49999957e+00,\n",
              "       -5.49999957e+00, -5.74999989e+00, -6.25000053e+00, -6.25000053e+00,\n",
              "       -6.25000053e+00, -6.25000053e+00, -6.25000053e+00, -6.25000053e+00,\n",
              "       -5.49999957e+00, -5.74999989e+00, -5.74999989e+00, -5.49999957e+00,\n",
              "       -4.75000036e+00, -4.75000036e+00, -4.75000036e+00, -4.50000004e+00,\n",
              "       -4.75000036e+00, -5.00000068e+00, -5.00000068e+00, -5.00000068e+00,\n",
              "       -5.00000068e+00, -5.00000068e+00, -5.74999989e+00, -5.74999989e+00,\n",
              "       -5.49999957e+00, -5.49999957e+00, -5.00000068e+00, -5.00000068e+00,\n",
              "       -5.00000068e+00, -5.49999957e+00, -5.00000068e+00, -4.24999972e+00,\n",
              "       -4.75000036e+00, -4.50000004e+00, -4.50000004e+00, -4.50000004e+00,\n",
              "       -4.50000004e+00, -2.99999987e+00, -3.49999963e+00, -3.25000019e+00,\n",
              "       -2.50000010e+00, -2.50000010e+00, -2.50000010e+00, -2.50000010e+00,\n",
              "       -2.50000010e+00, -2.50000010e+00, -2.50000010e+00, -2.75000042e+00,\n",
              "       -2.75000042e+00, -2.75000042e+00, -2.75000042e+00, -2.75000042e+00,\n",
              "       -2.99999987e+00, -2.75000042e+00, -2.75000042e+00, -2.75000042e+00,\n",
              "       -2.75000042e+00, -2.50000010e+00, -2.75000042e+00, -2.99999987e+00,\n",
              "       -2.75000042e+00, -3.25000019e+00, -3.25000019e+00, -3.25000019e+00,\n",
              "       -2.99999987e+00, -2.99999987e+00, -2.99999987e+00, -2.99999987e+00,\n",
              "       -2.99999987e+00, -2.99999987e+00, -2.99999987e+00, -2.50000010e+00,\n",
              "       -2.50000010e+00, -2.75000042e+00, -3.25000019e+00, -4.00000027e+00,\n",
              "       -4.00000027e+00, -4.00000027e+00, -4.00000027e+00, -4.00000027e+00,\n",
              "       -4.00000027e+00, -2.99999987e+00, -2.75000042e+00, -2.75000042e+00,\n",
              "       -2.75000042e+00, -5.00000068e+00, -5.49999957e+00, -5.74999989e+00,\n",
              "       -5.24999925e+00, -6.00000021e+00, -6.00000021e+00, -6.00000021e+00,\n",
              "       -5.24999925e+00, -6.00000021e+00, -5.24999925e+00, -4.00000027e+00,\n",
              "       -4.50000004e+00, -4.50000004e+00, -4.50000004e+00, -4.24999972e+00,\n",
              "       -4.00000027e+00, -4.00000027e+00, -4.24999972e+00, -4.00000027e+00,\n",
              "       -4.00000027e+00, -4.00000027e+00, -3.74999995e+00, -4.00000027e+00,\n",
              "       -4.00000027e+00, -3.49999963e+00, -2.00000034e+00, -2.00000034e+00,\n",
              "       -2.00000034e+00, -1.75000001e+00, -2.99999987e+00, -2.75000042e+00,\n",
              "       -2.50000010e+00, -2.24999978e+00, -2.24999978e+00, -2.24999978e+00,\n",
              "       -1.75000001e+00, -1.49999969e+00, -7.49999609e-01, -1.75000001e+00,\n",
              "       -1.25000025e+00, -1.25000025e+00, -1.25000025e+00, -7.49999609e-01,\n",
              "       -7.49999609e-01, -3.98606061e-07, -2.49999844e-01, -2.49999844e-01,\n",
              "       -2.49999844e-01, -2.49999844e-01, -2.49999844e-01, -2.49999844e-01,\n",
              "       -9.99999929e-01, -1.25000025e+00, -1.75000001e+00, -1.75000001e+00,\n",
              "       -1.75000001e+00, -1.49999969e+00, -7.49999609e-01, -1.49999969e+00,\n",
              "       -1.75000001e+00, -2.00000034e+00, -2.00000034e+00, -2.00000034e+00,\n",
              "       -1.49999969e+00, -2.50000010e+00, -1.75000001e+00, -1.49999969e+00,\n",
              "       -1.25000025e+00, -1.25000025e+00, -1.25000025e+00, -2.24999978e+00,\n",
              "       -1.25000025e+00, -1.25000025e+00, -1.49999969e+00, -7.49999609e-01,\n",
              "       -7.49999609e-01, -7.49999609e-01, -1.49999969e+00, -2.00000034e+00,\n",
              "       -5.00000164e-01, -1.25000025e+00, -1.49999969e+00, -1.49999969e+00,\n",
              "       -1.49999969e+00, -2.50000010e+00, -2.50000010e+00, -2.75000042e+00,\n",
              "       -3.25000019e+00, -4.00000027e+00, -4.00000027e+00, -4.00000027e+00,\n",
              "       -4.75000036e+00, -4.24999972e+00, -4.00000027e+00, -2.75000042e+00,\n",
              "       -2.00000034e+00, -2.00000034e+00, -2.00000034e+00, -3.74999995e+00,\n",
              "       -2.99999987e+00, -4.50000004e+00, -5.00000068e+00, -2.50000010e+00,\n",
              "       -2.50000010e+00, -2.50000010e+00, -2.00000034e+00, -1.75000001e+00,\n",
              "       -2.50000010e+00, -2.24999978e+00, -3.74999995e+00, -3.74999995e+00,\n",
              "       -3.74999995e+00, -9.99999929e-01,  1.00000001e+00,  2.49999922e-01,\n",
              "        1.00000001e+00,  5.00000242e-01,  5.00000242e-01,  5.00000242e-01,\n",
              "        2.49999922e-01,  2.49999922e-01,  7.49999687e-01, -5.00000164e-01,\n",
              "       -9.99999929e-01, -9.99999929e-01, -9.99999929e-01, -9.99999929e-01,\n",
              "       -1.49999969e+00, -1.25000025e+00, -9.99999929e-01, -3.98606061e-07,\n",
              "       -3.98606061e-07, -3.98606061e-07, -1.49999969e+00, -2.24999978e+00,\n",
              "       -2.50000010e+00, -1.49999969e+00, -2.50000010e+00, -2.50000010e+00,\n",
              "       -2.50000010e+00, -1.25000025e+00, -5.00000164e-01, -5.00000164e-01,\n",
              "        1.00000001e+00, -3.98606061e-07, -3.98606061e-07, -3.98606061e-07,\n",
              "       -5.00000164e-01,  7.49999687e-01,  1.00000001e+00,  2.00000041e+00,\n",
              "        1.75000009e+00,  1.75000009e+00,  1.75000009e+00, -1.49999969e+00,\n",
              "       -5.00000164e-01, -3.98606061e-07,  2.50000018e+00,  2.50000018e+00,\n",
              "        2.50000018e+00,  2.50000018e+00,  2.24999986e+00,  6.24999995e+00,\n",
              "        2.75000006e+00,  4.75000000e+00,  7.74999990e+00,  7.74999990e+00])"
            ]
          },
          "execution_count": 52,
          "metadata": {},
          "output_type": "execute_result"
        }
      ],
      "source": [
        "dummies = np.zeros((X_train.shape[0], lookback+1))\n",
        "dummies[:, 0] = y_train.flatten()\n",
        "dummies = scaler.inverse_transform(dummies)\n",
        "\n",
        "new_y_train = dc(dummies[:, 0])\n",
        "new_y_train"
      ]
    },
    {
      "cell_type": "code",
      "execution_count": 53,
      "id": "2LlDAUtyrcrN",
      "metadata": {
        "colab": {
          "base_uri": "https://localhost:8080/",
          "height": 449
        },
        "id": "2LlDAUtyrcrN",
        "outputId": "819c2ff2-be0d-4781-d164-915936251f66"
      },
      "outputs": [
        {
          "data": {
            "image/png": "[encoded data removed]",
            "text/plain": [
              "<Figure size 640x480 with 1 Axes>"
            ]
          },
          "metadata": {},
          "output_type": "display_data"
        }
      ],
      "source": [
        "plt.plot(new_y_train, label='Actual Close')\n",
        "plt.plot(train_predictions, label='Predicted Close')\n",
        "plt.xlabel('Day')\n",
        "plt.ylabel('Close')\n",
        "plt.legend()\n",
        "plt.show()\n"
      ]
    },
    {
      "cell_type": "code",
      "execution_count": 54,
      "id": "yYeC2JMorftR",
      "metadata": {
        "colab": {
          "base_uri": "https://localhost:8080/"
        },
        "id": "yYeC2JMorftR",
        "outputId": "94df7137-866f-42aa-cb02-5a78961f6779"
      },
      "outputs": [
        {
          "data": {
            "text/plain": [
              "array([ 6.114496  ,  6.10794681,  5.98966305,  4.944186  ,  5.93674514,\n",
              "        5.7638022 ,  5.85492096,  5.86776021,  5.86188861,  5.85533767,\n",
              "        4.40214745,  3.84844012,  3.12706352,  3.98408217,  4.30165138,\n",
              "        4.38295161,  5.19684329,  5.39027422,  6.35701566, 10.50496894,\n",
              "       10.85933172, 10.63001112, 10.39578016, 12.1914928 , 12.10092469,\n",
              "       11.23915064])"
            ]
          },
          "execution_count": 54,
          "metadata": {},
          "output_type": "execute_result"
        }
      ],
      "source": [
        "test_predictions = model(X_test.to(device)).detach().cpu().numpy().flatten()\n",
        "\n",
        "dummies = np.zeros((X_test.shape[0], lookback+1))\n",
        "dummies[:, 0] = test_predictions\n",
        "dummies = scaler.inverse_transform(dummies)\n",
        "\n",
        "test_predictions = dc(dummies[:, 0])\n",
        "test_predictions"
      ]
    },
    {
      "cell_type": "code",
      "execution_count": 55,
      "id": "g-DJXBgYsFyI",
      "metadata": {
        "colab": {
          "base_uri": "https://localhost:8080/"
        },
        "id": "g-DJXBgYsFyI",
        "outputId": "b606685e-137b-41ef-8a56-6171133ed013"
      },
      "outputs": [
        {
          "data": {
            "text/plain": [
              "array([ 7.7499999 ,  7.7499999 ,  6.24999995,  8.25      ,  7.50000002,\n",
              "        7.7499999 ,  7.7499999 ,  7.7499999 ,  7.7499999 ,  5.50000008,\n",
              "        5.2500002 ,  4.2499998 ,  5.74999997,  5.74999997,  5.74999997,\n",
              "        7.00000004,  7.00000004,  8.49999999, 14.75000012, 14.00000003,\n",
              "       14.00000003, 14.00000003, 17.24999982, 16.50000017, 15.24999988,\n",
              "       10.24999999])"
            ]
          },
          "execution_count": 55,
          "metadata": {},
          "output_type": "execute_result"
        }
      ],
      "source": [
        "dummies = np.zeros((X_test.shape[0], lookback+1))\n",
        "dummies[:, 0] = y_test.flatten()\n",
        "dummies = scaler.inverse_transform(dummies)\n",
        "\n",
        "new_y_test = dc(dummies[:, 0])\n",
        "new_y_test"
      ]
    },
    {
      "cell_type": "code",
      "execution_count": 56,
      "id": "PhLmIlHOsSK4",
      "metadata": {
        "colab": {
          "base_uri": "https://localhost:8080/",
          "height": 449
        },
        "id": "PhLmIlHOsSK4",
        "outputId": "09c21535-ea22-4d65-bc50-b159bd4dc135"
      },
      "outputs": [
        {
          "data": {
            "image/png": "[encoded data removed]",
            "text/plain": [
              "<Figure size 640x480 with 1 Axes>"
            ]
          },
          "metadata": {},
          "output_type": "display_data"
        }
      ],
      "source": [
        "plt.plot(new_y_test, label='Actual Close')\n",
        "plt.plot(test_predictions, label='Predicted Close')\n",
        "plt.xlabel('Day')\n",
        "plt.ylabel('Close')\n",
        "plt.legend()\n",
        "plt.show()\n"
      ]
    },
    {
      "cell_type": "code",
      "execution_count": null,
      "id": "-CuelDg2seDP",
      "metadata": {
        "id": "-CuelDg2seDP"
      },
      "outputs": [],
      "source": []
    },
    {
      "cell_type": "code",
      "execution_count": null,
      "id": "32084e6f",
      "metadata": {},
      "outputs": [],
      "source": []
    },
    {
      "cell_type": "code",
      "execution_count": null,
      "id": "453d6a9d",
      "metadata": {},
      "outputs": [],
      "source": []
    },
    {
      "cell_type": "code",
      "execution_count": null,
      "id": "cdc15cc7",
      "metadata": {},
      "outputs": [],
      "source": []
    }
  ],
  "metadata": {
    "colab": {
      "gpuType": "T4",
      "provenance": []
    },
    "gpuClass": "standard",
    "kernelspec": {
      "display_name": "Python 3",
      "name": "python3"
    },
    "language_info": {
      "codemirror_mode": {
        "name": "ipython",
        "version": 3
      },
      "file_extension": ".py",
      "mimetype": "text/x-python",
      "name": "python",
      "nbconvert_exporter": "python",
      "pygments_lexer": "ipython3",
      "version": "3.10.13"
    }
  },
  "nbformat": 4,
  "nbformat_minor": 5
}
