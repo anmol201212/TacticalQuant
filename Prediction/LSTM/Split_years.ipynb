{
 "cells": [
  {
   "cell_type": "code",
   "execution_count": 2,
   "metadata": {},
   "outputs": [],
   "source": [
    "import pandas as pd\n",
    "import numpy as np\n",
    "import os \n",
    "import plotly.express as px\n",
    "from datetime import timedelta\n",
    "import openpyxl"
   ]
  },
  {
   "cell_type": "code",
   "execution_count": 2,
   "metadata": {},
   "outputs": [],
   "source": [
    "# Convert excel sheets to csv\n",
    "excel_file = '/workspaces/Futures-First/Prediction/LSTM/data/Copper/Copper Data.xlsx'\n",
    "\n",
    "# Read all sheet names\n",
    "sheets = pd.read_excel(excel_file, sheet_name=None)\n",
    "\n",
    "# Loop through each sheet and save as CSV\n",
    "for sheet_name, data in sheets.items():\n",
    "    # Define the name of the CSV file\n",
    "    csv_file = f'/workspaces/Futures-First/Prediction/LSTM/data/Copper/data/{sheet_name}.csv'\n",
    "    \n",
    "    # Save the sheet to a CSV file\n",
    "    data.to_csv(csv_file, index=False)"
   ]
  },
  {
   "cell_type": "code",
   "execution_count": null,
   "metadata": {},
   "outputs": [],
   "source": [
    "df = pd.read_csv('/workspaces/Futures-First/Prediction/LSTM/data/Copper/data/Nov-Dec.csv')\n",
    "# df = pd.read_excel('/workspaces/Futures-First/Prediction/data/ZC May-Jul/ZC May-Jul.xlsx')\n",
    "df"
   ]
  },
  {
   "cell_type": "code",
   "execution_count": 65,
   "metadata": {},
   "outputs": [],
   "source": [
    "x = '/workspaces/Futures-First/Prediction/LSTM/data/Copper/HG Nov-Dec'"
   ]
  },
  {
   "cell_type": "code",
   "execution_count": 67,
   "metadata": {},
   "outputs": [],
   "source": [
    "temp = df.iloc[:,0:5].dropna()\n",
    "temp.columns = ['Date', 'Open','High','Low','Close']\n",
    "temp.to_csv(x+'/2024.csv',index=False)"
   ]
  },
  {
   "cell_type": "code",
   "execution_count": null,
   "metadata": {},
   "outputs": [],
   "source": [
    "ls = ['2023','2022','2021','2020','2019','2018','2017','2016']\n",
    "j = 6\n",
    "for i in ls:\n",
    "    \n",
    "    temp = df.iloc[:,j:j+5].dropna()\n",
    "    j = j+6\n",
    "    temp.columns = ['Date', 'Open','High','Low','Close']\n",
    "\n",
    "    # Convert the 'Date' column to datetime format\n",
    "    temp['Date'] = pd.to_datetime(temp['Date'])\n",
    "    \n",
    "    # Find the last date in the temp DataFrame\n",
    "    last_date = temp['Date'].max()\n",
    "    \n",
    "    # Calculate the date one year before the last date\n",
    "    one_year_ago = last_date - timedelta(days=365)\n",
    "    \n",
    "    # Filter the data to only include the last one year\n",
    "    temp = temp[temp['Date'] >= one_year_ago]\n",
    "\n",
    "    temp.to_csv(x+'/'+i+'.csv',index=False)\n",
    "    print(temp)"
   ]
  },
  {
   "cell_type": "code",
   "execution_count": 6,
   "metadata": {},
   "outputs": [],
   "source": [
    "\n",
    "second_selected_folder = '/workspaces/Futures-First/Prediction/LSTM/data/Milling Wheat/yEBM Jul'\n",
    "files = []\n",
    "for file_name in os.listdir(second_selected_folder):\n",
    "    if os.path.isfile(os.path.join(second_selected_folder, file_name)):\n",
    "        # print(file_name)\n",
    "        files.append(second_selected_folder +'/' +file_name)\n",
    "files.sort()\n",
    "\n",
    "\n",
    "\n",
    "for i in files:\n",
    "    df = pd.read_csv(i)\n",
    "    df.columns = ['Date', 'Open','High','Low','Close']\n",
    "    df['Date'] = pd.to_datetime(df['Date'])\n",
    "\n",
    "    last_date = df['Date'].max()\n",
    "    \n",
    "    # Calculate the date one year before the last date\n",
    "    one_year_ago = last_date - timedelta(days=365)\n",
    "    \n",
    "    # Filter the data to only include the last one year\n",
    "    df = df[df['Date'] >= one_year_ago]\n",
    "\n",
    "    df.to_csv(i,index=False)"
   ]
  }
 ],
 "metadata": {
  "kernelspec": {
   "display_name": "base",
   "language": "python",
   "name": "python3"
  },
  "language_info": {
   "codemirror_mode": {
    "name": "ipython",
    "version": 3
   },
   "file_extension": ".py",
   "mimetype": "text/x-python",
   "name": "python",
   "nbconvert_exporter": "python",
   "pygments_lexer": "ipython3",
   "version": "3.10.13"
  }
 },
 "nbformat": 4,
 "nbformat_minor": 2
}
