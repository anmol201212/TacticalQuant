{
 "cells": [
  {
   "cell_type": "code",
   "execution_count": 1,
   "metadata": {},
   "outputs": [],
   "source": [
    "import pandas as pd\n",
    "import numpy as np\n",
    "import os \n",
    "import plotly.express as px\n",
    "from datetime import timedelta\n",
    "import openpyxl"
   ]
  },
  {
   "cell_type": "code",
   "execution_count": 2,
   "metadata": {},
   "outputs": [],
   "source": [
    "# Convert excel sheets to csv\n",
    "excel_file = '/workspaces/Futures-First/Prediction/LSTM/data/Copper/Copper Data.xlsx'\n",
    "\n",
    "# Read all sheet names\n",
    "sheets = pd.read_excel(excel_file, sheet_name=None)\n",
    "\n",
    "# Loop through each sheet and save as CSV\n",
    "for sheet_name, data in sheets.items():\n",
    "    # Define the name of the CSV file\n",
    "    csv_file = f'/workspaces/Futures-First/Prediction/LSTM/data/Copper/data/{sheet_name}.csv'\n",
    "    \n",
    "    # Save the sheet to a CSV file\n",
    "    data.to_csv(csv_file, index=False)"
   ]
  },
  {
   "cell_type": "code",
   "execution_count": null,
   "metadata": {},
   "outputs": [],
   "source": [
    "df = pd.read_csv('/workspaces/Futures-First/Prediction/LSTM/data/Copper/data/Nov-Dec.csv')\n",
    "# df = pd.read_excel('/workspaces/Futures-First/Prediction/data/ZC May-Jul/ZC May-Jul.xlsx')\n",
    "df"
   ]
  },
  {
   "cell_type": "code",
   "execution_count": 65,
   "metadata": {},
   "outputs": [],
   "source": [
    "x = '/workspaces/Futures-First/Prediction/LSTM/data/Copper/HG Nov-Dec'"
   ]
  },
  {
   "cell_type": "code",
   "execution_count": 67,
   "metadata": {},
   "outputs": [],
   "source": [
    "temp = df.iloc[:,0:5].dropna()\n",
    "temp.columns = ['Date', 'Open','High','Low','Close']\n",
    "temp.to_csv(x+'/2024.csv',index=False)"
   ]
  },
  {
   "cell_type": "code",
   "execution_count": null,
   "metadata": {},
   "outputs": [],
   "source": [
    "ls = ['2023','2022','2021','2020','2019','2018','2017','2016']\n",
    "j = 6\n",
    "for i in ls:\n",
    "    \n",
    "    temp = df.iloc[:,j:j+5].dropna()\n",
    "    j = j+6\n",
    "    temp.columns = ['Date', 'Open','High','Low','Close']\n",
    "\n",
    "    # Convert the 'Date' column to datetime format\n",
    "    temp['Date'] = pd.to_datetime(temp['Date'])\n",
    "    \n",
    "    # Find the last date in the temp DataFrame\n",
    "    last_date = temp['Date'].max()\n",
    "    \n",
    "    # Calculate the date one year before the last date\n",
    "    one_year_ago = last_date - timedelta(days=365)\n",
    "    \n",
    "    # Filter the data to only include the last one year\n",
    "    temp = temp[temp['Date'] >= one_year_ago]\n",
    "\n",
    "    temp.to_csv(x+'/'+i+'.csv',index=False)\n",
    "    print(temp)"
   ]
  },
  {
   "cell_type": "code",
   "execution_count": 2,
   "metadata": {},
   "outputs": [
    {
     "name": "stdout",
     "output_type": "stream",
     "text": [
      "['/workspaces/Futures-First/Prediction/data/SoyBean/ZS Jan-Mar/2015.csv', '/workspaces/Futures-First/Prediction/data/SoyBean/ZS Jan-Mar/2016.csv', '/workspaces/Futures-First/Prediction/data/SoyBean/ZS Jan-Mar/2017.csv', '/workspaces/Futures-First/Prediction/data/SoyBean/ZS Jan-Mar/2018.csv', '/workspaces/Futures-First/Prediction/data/SoyBean/ZS Jan-Mar/2019.csv', '/workspaces/Futures-First/Prediction/data/SoyBean/ZS Jan-Mar/2020.csv', '/workspaces/Futures-First/Prediction/data/SoyBean/ZS Jan-Mar/2021.csv', '/workspaces/Futures-First/Prediction/data/SoyBean/ZS Jan-Mar/2022.csv', '/workspaces/Futures-First/Prediction/data/SoyBean/ZS Jan-Mar/2023.csv', '/workspaces/Futures-First/Prediction/data/SoyBean/ZS Jan-Mar/2024.csv', '/workspaces/Futures-First/Prediction/data/SoyBean/ZS Jan-Mar/2025.csv', '/workspaces/Futures-First/Prediction/data/SoyBean/ZS Jan-Mar/ZS Jan25-Mar25 Calendar_Daily.csv']\n"
     ]
    }
   ],
   "source": [
    "import pandas as pd\n",
    "import numpy as np\n",
    "import os \n",
    "from datetime import timedelta\n",
    "\n",
    "second_selected_folder = '/workspaces/Futures-First/Prediction/data/SoyBean/ZS Jan-Mar'\n",
    "files = []\n",
    "for file_name in os.listdir(second_selected_folder):\n",
    "    if os.path.isfile(os.path.join(second_selected_folder, file_name)):\n",
    "        # print(file_name)\n",
    "        files.append(second_selected_folder +'/' +file_name)\n",
    "files.sort()\n",
    "\n",
    "print(files)\n",
    "\n",
    "for i in files:\n",
    "    df = pd.read_csv(i)\n",
    "    df = df.iloc[:,:5]\n",
    "    df.columns = ['Date', 'Open','High','Low','Close']\n",
    "    df['Date'] = pd.to_datetime(df['Date'])\n",
    "    df = df.sort_values(by='Date', ascending=True)\n",
    "    last_date = df['Date'].max()\n",
    "    \n",
    "    # Calculate the date one year before the last date\n",
    "    one_year_ago = last_date - timedelta(days=365)\n",
    "    \n",
    "    # Filter the data to only include the last one year\n",
    "    df = df[df['Date'] >= one_year_ago]\n",
    "\n",
    "    df.to_csv(i,index=False)"
   ]
  },
  {
   "cell_type": "code",
   "execution_count": 5,
   "metadata": {},
   "outputs": [
    {
     "data": {
      "text/html": [
       "<div>\n",
       "<style scoped>\n",
       "    .dataframe tbody tr th:only-of-type {\n",
       "        vertical-align: middle;\n",
       "    }\n",
       "\n",
       "    .dataframe tbody tr th {\n",
       "        vertical-align: top;\n",
       "    }\n",
       "\n",
       "    .dataframe thead th {\n",
       "        text-align: right;\n",
       "    }\n",
       "</style>\n",
       "<table border=\"1\" class=\"dataframe\">\n",
       "  <thead>\n",
       "    <tr style=\"text-align: right;\">\n",
       "      <th></th>\n",
       "      <th>Timestamp (UTC)</th>\n",
       "      <th>Open</th>\n",
       "      <th>High</th>\n",
       "      <th>Low</th>\n",
       "    </tr>\n",
       "  </thead>\n",
       "  <tbody>\n",
       "    <tr>\n",
       "      <th>0</th>\n",
       "      <td>2015-04-15</td>\n",
       "      <td>-1.500</td>\n",
       "      <td>-1.225</td>\n",
       "      <td>-1.525</td>\n",
       "    </tr>\n",
       "    <tr>\n",
       "      <th>1</th>\n",
       "      <td>2015-04-16</td>\n",
       "      <td>-1.425</td>\n",
       "      <td>-1.300</td>\n",
       "      <td>-1.575</td>\n",
       "    </tr>\n",
       "    <tr>\n",
       "      <th>2</th>\n",
       "      <td>2015-04-17</td>\n",
       "      <td>-1.400</td>\n",
       "      <td>-1.400</td>\n",
       "      <td>-1.825</td>\n",
       "    </tr>\n",
       "    <tr>\n",
       "      <th>3</th>\n",
       "      <td>2015-04-20</td>\n",
       "      <td>-1.725</td>\n",
       "      <td>-1.625</td>\n",
       "      <td>-2.175</td>\n",
       "    </tr>\n",
       "    <tr>\n",
       "      <th>4</th>\n",
       "      <td>2015-04-21</td>\n",
       "      <td>-2.125</td>\n",
       "      <td>-2.000</td>\n",
       "      <td>-2.325</td>\n",
       "    </tr>\n",
       "    <tr>\n",
       "      <th>...</th>\n",
       "      <td>...</td>\n",
       "      <td>...</td>\n",
       "      <td>...</td>\n",
       "      <td>...</td>\n",
       "    </tr>\n",
       "    <tr>\n",
       "      <th>62</th>\n",
       "      <td>2015-08-17</td>\n",
       "      <td>1.650</td>\n",
       "      <td>1.650</td>\n",
       "      <td>0.125</td>\n",
       "    </tr>\n",
       "    <tr>\n",
       "      <th>63</th>\n",
       "      <td>2015-08-18</td>\n",
       "      <td>0.550</td>\n",
       "      <td>0.700</td>\n",
       "      <td>-0.475</td>\n",
       "    </tr>\n",
       "    <tr>\n",
       "      <th>64</th>\n",
       "      <td>2015-08-19</td>\n",
       "      <td>-0.025</td>\n",
       "      <td>0.300</td>\n",
       "      <td>-0.625</td>\n",
       "    </tr>\n",
       "    <tr>\n",
       "      <th>65</th>\n",
       "      <td>2015-08-20</td>\n",
       "      <td>0.100</td>\n",
       "      <td>0.800</td>\n",
       "      <td>-0.100</td>\n",
       "    </tr>\n",
       "    <tr>\n",
       "      <th>66</th>\n",
       "      <td>2015-08-21</td>\n",
       "      <td>0.500</td>\n",
       "      <td>1.900</td>\n",
       "      <td>0.200</td>\n",
       "    </tr>\n",
       "  </tbody>\n",
       "</table>\n",
       "<p>67 rows × 4 columns</p>\n",
       "</div>"
      ],
      "text/plain": [
       "   Timestamp (UTC)   Open   High    Low\n",
       "0       2015-04-15 -1.500 -1.225 -1.525\n",
       "1       2015-04-16 -1.425 -1.300 -1.575\n",
       "2       2015-04-17 -1.400 -1.400 -1.825\n",
       "3       2015-04-20 -1.725 -1.625 -2.175\n",
       "4       2015-04-21 -2.125 -2.000 -2.325\n",
       "..             ...    ...    ...    ...\n",
       "62      2015-08-17  1.650  1.650  0.125\n",
       "63      2015-08-18  0.550  0.700 -0.475\n",
       "64      2015-08-19 -0.025  0.300 -0.625\n",
       "65      2015-08-20  0.100  0.800 -0.100\n",
       "66      2015-08-21  0.500  1.900  0.200\n",
       "\n",
       "[67 rows x 4 columns]"
      ]
     },
     "execution_count": 5,
     "metadata": {},
     "output_type": "execute_result"
    }
   ],
   "source": [
    "df.iloc[:,:4]"
   ]
  },
  {
   "cell_type": "code",
   "execution_count": null,
   "metadata": {},
   "outputs": [],
   "source": []
  }
 ],
 "metadata": {
  "kernelspec": {
   "display_name": "base",
   "language": "python",
   "name": "python3"
  },
  "language_info": {
   "codemirror_mode": {
    "name": "ipython",
    "version": 3
   },
   "file_extension": ".py",
   "mimetype": "text/x-python",
   "name": "python",
   "nbconvert_exporter": "python",
   "pygments_lexer": "ipython3",
   "version": "3.10.13"
  }
 },
 "nbformat": 4,
 "nbformat_minor": 2
}
